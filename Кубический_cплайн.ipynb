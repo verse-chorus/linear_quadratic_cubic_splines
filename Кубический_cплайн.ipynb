{
 "cells": [
  {
   "cell_type": "markdown",
   "metadata": {},
   "source": [
    "## Кубические сплайны"
   ]
  },
  {
   "cell_type": "markdown",
   "metadata": {},
   "source": [
    "$\\textbf{Кубический сплайн}$ (дефекта 1), интерполирующий $f(x)$ на $[a, b]$: $$c(x) := d_k + c_k (x-x_k) + b_k (x-x_k)^2 + a_k (x-x_k)^3,$$ \n",
    "\n",
    "где $x\\in [x_{k-1}, x_{k}] \\big|_{k=1}^n$\n",
    "\n",
    "$\\textbf{Обозначение кубического сплайна дефекта 1}$: $S^n_{3,2}$, где $n, 3, 2$ - кол-во узлов интерполирования, старшая степень и порядок гладкости сплайна соответственно.\n",
    "\n",
    "$\\textbf{Краевые условия}$: \n",
    "$$ \\textbf{1)}\\; c(x_k) = f(x_k), \\;\\; \\textbf{2)}\\; c(x) \\in C^2([a,b]), \\;\\; \\textbf{3)}\\; c''(a) = c''(b)=0$$\n",
    "При выполнении условия $\\textbf{3)}$ сплайн называется $\\textbf{естественным}$."
   ]
  },
  {
   "cell_type": "code",
   "execution_count": 1,
   "metadata": {},
   "outputs": [],
   "source": [
    "import numpy as np\n",
    "import matplotlib.pyplot as plt \n",
    "np.set_printoptions(suppress=True)"
   ]
  },
  {
   "cell_type": "code",
   "execution_count": 2,
   "metadata": {},
   "outputs": [],
   "source": [
    "# Матрица в виде AB = C\n",
    "# Исходная функция\n",
    "def fn(x):\n",
    "    return x**2 + 4*np.sin(x) - 2"
   ]
  },
  {
   "cell_type": "markdown",
   "metadata": {},
   "source": [
    "## Кубические сплайны по равноотстоящим узлам"
   ]
  },
  {
   "cell_type": "code",
   "execution_count": 3,
   "metadata": {},
   "outputs": [],
   "source": [
    "def cub_spline(arg, a, b, m, fig=None):\n",
    "    x = np.linspace(a, b, m)\n",
    "    # m - число узлов\n",
    "    n = m - 1\n",
    "    # n - число кубических сплайнов\n",
    "\n",
    "    A = np.zeros((4*n, 4*n))\n",
    "    C = np.zeros(4*n)\n",
    "\n",
    "    for i in range(n):\n",
    "        A[i, i] = x[i]**3\n",
    "        A[i, n+i] = x[i]**2\n",
    "        A[i, 2*n+i] = x[i]\n",
    "        A[i, 3*n+i] = 1\n",
    "\n",
    "        # Строки [n, 2n-1]\n",
    "        A[n+i, i] = x[i+1]**3\n",
    "        A[n+i, n+i] = x[i+1]**2\n",
    "        A[n+i, 2*n+i] = x[i+1]\n",
    "        A[n+i, 3*n+i] = 1\n",
    "\n",
    "        C[i] = fn(x[i])\n",
    "        C[n+i] = fn(x[i+1])\n",
    "\n",
    "    # Строки [2n, 3n-1]\n",
    "    for j in range(n-1):\n",
    "        row = 2*n+j\n",
    "        columns = [j, j+1, n+j, n+j+1, 2*n+j, 2*n+j+1]\n",
    "        #start at j+1 since derivatives are equal at the interior points\n",
    "        values = 3*x[j+1]**2, -3*x[j+1]**2, 2*x[j+1], -2*x[j+1], 1, -1\n",
    "        A[row, [columns]] = values\n",
    "\n",
    "        # Значения функции для рядов C из промежутка [2n: 3n-1] равны нулю, поскольку мы приравниваем произвдоные\n",
    "\n",
    "    # Строки [3n-1, 4n-2]\n",
    "    for q in range(n-1):\n",
    "        row = 3*n-1 + q\n",
    "        columns = [q, q+1, n+q, n+q+1]\n",
    "        values = 6*x[q+1], -6*x[q+1], 2, -2\n",
    "        A[row, [columns]] = values\n",
    "        # Значения функции для рядов C из промежутка [3n-1: 4n-2] равны нулю, поскольку мы приравниваем произвдоные\n",
    "\n",
    "    # Задаем вторые производные на граничны точках (x0, xn) равными нулю, \n",
    "    # чтобы получить два дополнительных уравнения - естественный сплайн\n",
    "    A[4*n-2, [0,n]] = 6*x[0], 2\n",
    "    A[4*n-1, [n-1,2*n-1]] =  6*x[n], 2\n",
    "\n",
    "    # Решаем относительно b\n",
    "    B = np.linalg.solve(A,C)\n",
    "\n",
    "    ai = B[:n]\n",
    "    bi = B[n:2*n]\n",
    "    ci = B[2*n:3*n]\n",
    "    di = B[3*n:]\n",
    "    \n",
    "    # Вычисление значения от кубического сплайна     \n",
    "    if fig == None:\n",
    "        flag, res = 0, 0\n",
    "        eps = 10**(-6)\n",
    "        for i in range(n):\n",
    "            if arg == a:\n",
    "                arg += eps\n",
    "                flag = i\n",
    "                res = ai[flag]*arg**3 + bi[flag]*arg**2 + ci[flag]*arg + di[flag]\n",
    "            elif arg == b:\n",
    "                arg -= eps\n",
    "                flag = i\n",
    "                res = ai[flag]*arg**3 + bi[flag]*arg**2 + ci[flag]*arg + di[flag]\n",
    "            elif (arg > x[i]) and (arg < x[i+1]):\n",
    "                flag = i\n",
    "                res = ai[flag]*arg**3 + bi[flag]*arg**2 + ci[flag]*arg + di[flag]\n",
    "        return res\n",
    "\n",
    "    # Изображение на графике     \n",
    "    elif fig == True:\n",
    "        plt.figure()\n",
    "        for k in range(n):\n",
    "            xspline = np.linspace(x[k], x[k+1])\n",
    "            yspline = ai[k]*xspline**3 + bi[k]*xspline**2 + ci[k]*xspline + di[k]    \n",
    "            plt.plot(xspline, yspline, '-', linewidth=4)\n",
    "\n",
    "        plt.xlabel('x')\n",
    "        plt.ylabel('y')\n",
    "        plt.title('$S_{3,2}^m$ по равноотстоящим узлам для $f(x)$')\n",
    "        plt.show()"
   ]
  },
  {
   "cell_type": "code",
   "execution_count": 5,
   "metadata": {},
   "outputs": [
    {
     "data": {
      "text/plain": [
       "100.17606107660163"
      ]
     },
     "execution_count": 5,
     "metadata": {},
     "output_type": "execute_result"
    }
   ],
   "source": [
    "cub_spline(arg=-10, a=-10, b=10, m=100)"
   ]
  },
  {
   "cell_type": "markdown",
   "metadata": {},
   "source": [
    "## Изобразим $S_{3,2}^{m}$"
   ]
  },
  {
   "cell_type": "code",
   "execution_count": 6,
   "metadata": {},
   "outputs": [
    {
     "data": {
      "image/png": "[encoded data removed]",
      "text/plain": [
       "<Figure size 432x288 with 1 Axes>"
      ]
     },
     "metadata": {
      "needs_background": "light"
     },
     "output_type": "display_data"
    }
   ],
   "source": [
    "cub_spline(arg=5, a=-4, b=4, m=5, fig=True)"
   ]
  },
  {
   "cell_type": "markdown",
   "metadata": {},
   "source": [
    "## Кубические сплайны по оптимальным узлам Чебышева $$x_i = 0.5 \\left((b-a)\\cos\\dfrac{(2i+1)\\pi}{2(n+1)} + (b+a)\\right),\\; i\\in \\overline{0,n}$$"
   ]
  },
  {
   "cell_type": "code",
   "execution_count": 18,
   "metadata": {},
   "outputs": [],
   "source": [
    "def optimal_cub_spline(arg, a, b, m, fig=None):\n",
    "    chebish = []\n",
    "    n = m - 1\n",
    "    for i in range(0, m):\n",
    "        chebish.append(0.5 * ((b-a)*np.cos(((2*i+1)*np.pi)/(2*(m+1))) + (b+a)))\n",
    "\n",
    "    A_opt = np.zeros((4*n, 4*n))*1.0\n",
    "    C_opt = np.zeros(4*n)*1.0\n",
    "\n",
    "    for i in range(n):\n",
    "        A_opt[i, i] = chebish[i]**3\n",
    "        A_opt[i, n+i] = chebish[i]**2\n",
    "        A_opt[i, 2*n+i] = chebish[i]\n",
    "        A_opt[i, 3*n+i] = 1\n",
    "\n",
    "        # Строки [n, 2n-1]\n",
    "        A_opt[n+i, i] = chebish[i+1]**3\n",
    "        A_opt[n+i, n+i] = chebish[i+1]**2\n",
    "        A_opt[n+i, 2*n+i] = chebish[i+1]\n",
    "        A_opt[n+i, 3*n+i] = 1\n",
    "\n",
    "        C_opt[i] = fn(chebish[i])\n",
    "        C_opt[n+i] = fn(chebish[i+1])\n",
    "\n",
    "    # Строки [2n, 3n-1]\n",
    "    for j in range(n-1):\n",
    "        row = 2*n+j\n",
    "        columns = [j, j+1, n+j, n+j+1, 2*n+j, 2*n+j+1]\n",
    "        # start at j+1 since derivatives are equal at the interior points\n",
    "        values = 3*chebish[j+1]**2, -3*chebish[j+1]**2, 2*chebish[j+1], -2*chebish[j+1], 1, -1\n",
    "        A_opt[row, [columns]] = values\n",
    "\n",
    "        # Строки [3n-1, 4n-2]\n",
    "    for q in range(n-1):\n",
    "        row = 3*n-1 + q\n",
    "        columns = [q, q+1, n+q, n+q+1]\n",
    "        values = 6*chebish[q+1], -6*chebish[q+1], 2, -2\n",
    "        A_opt[row, [columns]] = values\n",
    "\n",
    "    # Задаем вторые производные на граничны точках (x0, xn) равными нулю, \n",
    "    # чтобы получить два дополнительных уравнения - естественный сплайн\n",
    "    A_opt[4*n-2, [0,n]] = 6*chebish[0], 2\n",
    "    A_opt[4*n-1, [n-1,2*n-1]] =  6*chebish[n], 2\n",
    "\n",
    "    # Решаем относительно b\n",
    "    B_opt = np.linalg.solve(A_opt, C_opt)\n",
    "\n",
    "    ai_opt = B_opt[:n]\n",
    "    bi_opt = B_opt[n:2*n]\n",
    "    ci_opt = B_opt[2*n:3*n]\n",
    "    di_opt = B_opt[3*n:]\n",
    "    \n",
    "    # Вычисление значения от кубического сплайна   \n",
    "    if fig == None:\n",
    "        flag, res = 0, 0\n",
    "        eps = 10**(-1)\n",
    "        for i in range(n):\n",
    "            if arg == a:\n",
    "                arg += eps + 0.9\n",
    "                flag = i\n",
    "                res = ai_opt[flag]*arg**3 + bi_opt[flag]*arg**2 + ci_opt[flag]*arg + di_opt[flag]\n",
    "            elif arg == b:\n",
    "                arg -= eps\n",
    "                flag = i\n",
    "                res = ai_opt[flag]*arg**3 + bi_opt[flag]*arg**2 + ci_opt[flag]*arg + di_opt[flag]\n",
    "            elif (arg < chebish[i]) and (arg > chebish[i+1]):\n",
    "                flag = i\n",
    "                res = ai_opt[flag]*arg**3 + bi_opt[flag]*arg**2 + ci_opt[flag]*arg + di_opt[flag]\n",
    "        return res\n",
    "\n",
    "    # Изображение на графике     \n",
    "    elif fig == True:\n",
    "        plt.figure()\n",
    "        for k in range(n):\n",
    "            xspline = np.linspace(chebish[k], chebish[k+1])\n",
    "            yspline = ai_opt[k]*xspline**3 + bi_opt[k]*xspline**2 + ci_opt[k]*xspline + di_opt[k]    \n",
    "            plt.plot(xspline, yspline, '-', linewidth=4)\n",
    "\n",
    "        plt.xlabel('x')\n",
    "        plt.ylabel('y')\n",
    "        plt.title('$S_{3,2}^m$ по узлам Чебышева для $f(x)$')\n",
    "        plt.show()"
   ]
  },
  {
   "cell_type": "code",
   "execution_count": 20,
   "metadata": {},
   "outputs": [
    {
     "data": {
      "text/plain": [
       "94.1781250037786"
      ]
     },
     "execution_count": 20,
     "metadata": {},
     "output_type": "execute_result"
    }
   ],
   "source": [
    "optimal_cub_spline(arg=10, a=-10, b=10, m=10, fig=None)"
   ]
  },
  {
   "cell_type": "markdown",
   "metadata": {},
   "source": [
    "## Изобразим $S_{3,2}^{m_{opt}}$"
   ]
  },
  {
   "cell_type": "code",
   "execution_count": 21,
   "metadata": {},
   "outputs": [
    {
     "data": {
      "image/png": "[encoded data removed]",
      "text/plain": [
       "<Figure size 432x288 with 1 Axes>"
      ]
     },
     "metadata": {
      "needs_background": "light"
     },
     "output_type": "display_data"
    }
   ],
   "source": [
    "optimal_cub_spline(arg=5, a=-11, b=10, m=10, fig=True)"
   ]
  },
  {
   "cell_type": "markdown",
   "metadata": {},
   "source": [
    "## Найдем максимальные отклонения $RS_{3,2}^n, RS_{3,2}^{n_{opt}}$"
   ]
  },
  {
   "cell_type": "code",
   "execution_count": 22,
   "metadata": {
    "scrolled": false
   },
   "outputs": [
    {
     "name": "stdout",
     "output_type": "stream",
     "text": [
      "Введите количество k точек разбиения интервала интерполирования, в которых определяются отклонения: 250\n",
      "Введите максимальное количество max_nodes узлов: 25\n",
      "Введите a: -2\n",
      "Введите b: 2\n",
      "Таблица 1:\n",
      "-----------------------------------------------------------------------------------------------------------\n",
      "| кол-во узлов, n | кол-во точек разбиения, k   | max RSn_mp \t\t | max RSn_opt_mp \t\t|\n",
      "-----------------------------------------------------------------------------------------------------------\n",
      "|\t 3 \t|\t\t 250 \t  | 5.6727426492876605 \t| 8.607708607541317 \t\t |\n",
      "-----------------------------------------------------------------------------------------------------------\n",
      "|\t 4 \t|\t\t 250 \t  | 6.1093291609209945 \t| 6.8163349794473564 \t\t |\n",
      "-----------------------------------------------------------------------------------------------------------\n",
      "|\t 5 \t|\t\t 250 \t  | 6.011470160467506 \t| 3.069996254380796 \t\t |\n",
      "-----------------------------------------------------------------------------------------------------------\n",
      "|\t 6 \t|\t\t 250 \t  | 5.637189707302727 \t| 7.18420671625427 \t\t |\n",
      "-----------------------------------------------------------------------------------------------------------\n",
      "|\t 7 \t|\t\t 250 \t  | 4.866684377717714 \t| 0.9623838206503308 \t\t |\n",
      "-----------------------------------------------------------------------------------------------------------\n",
      "|\t 8 \t|\t\t 250 \t  | 0.35225415038033137 \t| 4.819122880912049 \t\t |\n",
      "-----------------------------------------------------------------------------------------------------------\n",
      "|\t 9 \t|\t\t 250 \t  | 1.2806893454194528 \t| 0.13991985672499974 \t\t |\n",
      "-----------------------------------------------------------------------------------------------------------\n",
      "|\t 10 \t|\t\t 250 \t  | 0.5181384289882986 \t| 2.1362100827354267 \t\t |\n",
      "-----------------------------------------------------------------------------------------------------------\n",
      "|\t 11 \t|\t\t 250 \t  | 5.637189707302727 \t| 0.43031008668076165 \t\t |\n",
      "-----------------------------------------------------------------------------------------------------------\n",
      "|\t 12 \t|\t\t 250 \t  | 0.227433286312821 \t| 0.9430584884294153 \t\t |\n",
      "-----------------------------------------------------------------------------------------------------------\n",
      "|\t 13 \t|\t\t 250 \t  | 0.11343072440313273 \t| 0.42843326255859093 \t\t |\n",
      "-----------------------------------------------------------------------------------------------------------\n",
      "|\t 14 \t|\t\t 250 \t  | 0.1006085813838693 \t| 0.4269414454970497 \t\t |\n",
      "-----------------------------------------------------------------------------------------------------------\n",
      "|\t 15 \t|\t\t 250 \t  | 0.05247532051784631 \t| 0.2881547973751122 \t\t |\n",
      "-----------------------------------------------------------------------------------------------------------\n",
      "|\t 16 \t|\t\t 250 \t  | 5.637189707302727 \t| 0.20827885059974705 \t\t |\n",
      "-----------------------------------------------------------------------------------------------------------\n",
      "|\t 17 \t|\t\t 250 \t  | 0.035063397659411244 \t| 0.1732119233691658 \t\t |\n",
      "-----------------------------------------------------------------------------------------------------------\n",
      "|\t 18 \t|\t\t 250 \t  | 0.025666629910298333 \t| 0.10962846316808106 \t\t |\n",
      "-----------------------------------------------------------------------------------------------------------\n",
      "|\t 19 \t|\t\t 250 \t  | 0.021220925884833264 \t| 0.10568764338715742 \t\t |\n",
      "-----------------------------------------------------------------------------------------------------------\n",
      "|\t 20 \t|\t\t 250 \t  | 0.014557531644287636 \t| 0.06189136255450167 \t\t |\n",
      "-----------------------------------------------------------------------------------------------------------\n",
      "|\t 21 \t|\t\t 250 \t  | 5.637189707302727 \t| 0.06645934547138443 \t\t |\n",
      "-----------------------------------------------------------------------------------------------------------\n",
      "|\t 22 \t|\t\t 250 \t  | 0.010091778643220639 \t| 0.04387420607161285 \t\t |\n",
      "-----------------------------------------------------------------------------------------------------------\n",
      "|\t 23 \t|\t\t 250 \t  | 0.00850825008884204 \t| 0.04314909661852351 \t\t |\n",
      "-----------------------------------------------------------------------------------------------------------\n",
      "|\t 24 \t|\t\t 250 \t  | 0.007056058259662379 \t| 0.03295780828724437 \t\t |\n",
      "-----------------------------------------------------------------------------------------------------------\n",
      "|\t 25 \t|\t\t 250 \t  | 0.005648817492710734 \t| 0.028900145995876425 \t\t |\n",
      "-----------------------------------------------------------------------------------------------------------\n"
     ]
    }
   ],
   "source": [
    "k = int(input('Введите количество k точек разбиения интервала интерполирования, в которых определяются отклонения: '))\n",
    "max_nodes = int(input('Введите максимальное количество max_nodes узлов: '))\n",
    "# mds = maximum_difference_segment\n",
    "a = float(input('Введите a: '))\n",
    "b = float(input('Введите b: '))\n",
    "mds = np.linspace(a, b, k)\n",
    "\n",
    "func_mds = []\n",
    "spline_mds = []\n",
    "optimal_spline_mds = []\n",
    "RSn_mp = []\n",
    "RSn_opt_mp = []\n",
    "\n",
    "# значения точной функции в точках x0, x1, ..., xm; m >> n\n",
    "for i in mds:\n",
    "    func_mds.append(fn(i))\n",
    "\n",
    "print('Таблица 1:')\n",
    "print('-----------------------------------------------------------------------------------------------------------')\n",
    "print('| кол-во узлов, n | кол-во точек разбиения, k   | max RSn_mp \\t\\t | max RSn_opt_mp \\t\\t|' )\n",
    "print('-----------------------------------------------------------------------------------------------------------')\n",
    "\n",
    "for pp in range(3, max_nodes + 1):\n",
    "    # Ищем отклонения     \n",
    "    for p in mds:\n",
    "        # значения линейного сплайна S_{3,2}^n в точках x0, x1, ..., xk; k >> n  \n",
    "        spline_mds.append(cub_spline(arg=p, a=-10, b=10, m=pp))\n",
    "        # значения линейного сплайна S_{3,2}^{n_opt} в точках x0, x1, ..., xk; k >> n        \n",
    "        optimal_spline_mds.append(optimal_cub_spline(arg=p, a=-10, b=10, m=pp))    \n",
    "    # Отклонения\n",
    "    for j in range(1, len(mds)):\n",
    "        RSn_mp.append(np.absolute(func_mds[j] - spline_mds[j]))\n",
    "        RSn_opt_mp.append(np.absolute(func_mds[j] - optimal_spline_mds[j]))\n",
    "    RSn_mp_max = max(RSn_mp)\n",
    "    RSn_opt_mp_max = max(RSn_opt_mp)\n",
    "    \n",
    "    print('|\\t', pp, '\\t|\\t\\t', k, '\\t  |', RSn_mp_max, '\\t|', RSn_opt_mp_max, '\\t\\t |')\n",
    "    print('-----------------------------------------------------------------------------------------------------------')\n",
    "    RSn_mp = []\n",
    "    RSn_opt_mp = []\n",
    "    RSn_mp_max, RSn_opt_mp_max = 0, 0\n",
    "    spline_mds = []\n",
    "    optimal_spline_mds = []"
   ]
  },
  {
   "cell_type": "markdown",
   "metadata": {},
   "source": [
    "## Графики распределения абсолютной погрешности на $[a,b]$ для $S_{3,2}$ и полинома N "
   ]
  },
  {
   "cell_type": "markdown",
   "metadata": {},
   "source": [
    "## 1) $S_{3,2}^n, N_n$"
   ]
  },
  {
   "cell_type": "code",
   "execution_count": null,
   "metadata": {},
   "outputs": [],
   "source": []
  },
  {
   "cell_type": "code",
   "execution_count": null,
   "metadata": {},
   "outputs": [],
   "source": []
  },
  {
   "cell_type": "markdown",
   "metadata": {},
   "source": [
    "## 2) $S_{3,2}^{n_{opt}}, N_{n_{opt}}$"
   ]
  },
  {
   "cell_type": "code",
   "execution_count": null,
   "metadata": {},
   "outputs": [],
   "source": []
  },
  {
   "cell_type": "code",
   "execution_count": null,
   "metadata": {},
   "outputs": [],
   "source": []
  }
 ],
 "metadata": {
  "kernelspec": {
   "display_name": "Python 3 (ipykernel)",
   "language": "python",
   "name": "python3"
  },
  "language_info": {
   "codemirror_mode": {
    "name": "ipython",
    "version": 3
   },
   "file_extension": ".py",
   "mimetype": "text/x-python",
   "name": "python",
   "nbconvert_exporter": "python",
   "pygments_lexer": "ipython3",
   "version": "3.9.6"
  }
 },
 "nbformat": 4,
 "nbformat_minor": 2
}
