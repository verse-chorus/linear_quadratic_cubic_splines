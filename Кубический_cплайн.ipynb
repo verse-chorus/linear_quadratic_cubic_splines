{
 "cells": [
  {
   "cell_type": "markdown",
   "metadata": {},
   "source": [
    "## Кубические сплайны"
   ]
  },
  {
   "cell_type": "markdown",
   "metadata": {},
   "source": [
    "$\\textbf{Кубический сплайн}$ (дефекта 1), интерполирующий $f(x)$ на $[a, b]$: $$c(x) := d_k + c_k (x-x_k) + b_k (x-x_k)^2 + a_k (x-x_k)^3,$$ \n",
    "\n",
    "где $x\\in [x_{k-1}, x_{k}] \\big|_{k=1}^n$\n",
    "\n",
    "$\\textbf{Обозначение кубического сплайна дефекта 1}$: $S^n_{3,2}$, где $n, 3, 2$ - кол-во узлов интерполирования, старшая степень и порядок гладкости сплайна соответственно.\n",
    "\n",
    "$\\textbf{Краевые условия}$: \n",
    "$$ \\textbf{1)}\\; c(x_k) = f(x_k), \\;\\; \\textbf{2)}\\; c(x) \\in C^2([a,b]), \\;\\; \\textbf{3)}\\; c''(a) = c''(b)=0$$\n",
    "При выполнении условия $\\textbf{3)}$ сплайн называется $\\textbf{естественным}$."
   ]
  },
  {
   "cell_type": "code",
   "execution_count": 346,
   "metadata": {},
   "outputs": [],
   "source": [
    "import numpy as np\n",
    "import matplotlib.pyplot as plt \n",
    "np.set_printoptions(suppress=True)"
   ]
  },
  {
   "cell_type": "code",
   "execution_count": 329,
   "metadata": {},
   "outputs": [],
   "source": [
    "# Матрица в виде AB = C  \n",
    "# Исходная функция\n",
    "def fn(x):\n",
    "    return x**2 + 4*np.sin(x) - 2"
   ]
  },
  {
   "cell_type": "markdown",
   "metadata": {},
   "source": [
    "## Кубические сплайны по равноотстоящим узлам"
   ]
  },
  {
   "cell_type": "code",
   "execution_count": 347,
   "metadata": {},
   "outputs": [],
   "source": [
    "def cub_spline(arg, a, b, m, fig=None):\n",
    "    x = np.linspace(a, b, m)\n",
    "    # m - число узлов\n",
    "    n = m - 1\n",
    "    # n - число кубических сплайнов\n",
    "\n",
    "    A = np.zeros((4*n, 4*n))\n",
    "    C = np.zeros(4*n)\n",
    "\n",
    "    for i in range(n):\n",
    "        A[i, i] = x[i]**3\n",
    "        A[i, n+i] = x[i]**2\n",
    "        A[i, 2*n+i] = x[i]\n",
    "        A[i, 3*n+i] = 1\n",
    "\n",
    "        # Строки [n, 2n-1]\n",
    "        A[n+i, i] = x[i+1]**3\n",
    "        A[n+i, n+i] = x[i+1]**2\n",
    "        A[n+i, 2*n+i] = x[i+1]\n",
    "        A[n+i, 3*n+i] = 1\n",
    "\n",
    "        C[i] = fn(x[i])\n",
    "        C[n+i] = fn(x[i+1])\n",
    "\n",
    "    # Строки [2n, 3n-1]\n",
    "    for j in range(n-1):\n",
    "        row = 2*n+j\n",
    "        columns = [j, j+1, n+j, n+j+1, 2*n+j, 2*n+j+1]\n",
    "        #start at j+1 since derivatives are equal at the interior points\n",
    "        values = 3*x[j+1]**2, -3*x[j+1]**2, 2*x[j+1], -2*x[j+1], 1, -1\n",
    "        A[row, [columns]] = values\n",
    "\n",
    "        # Значения функции для рядов C из промежутка [2n: 3n-1] равны нулю, поскольку мы приравниваем произвдоные\n",
    "\n",
    "    # Строки [3n-1, 4n-2]\n",
    "    for q in range(n-1):\n",
    "        row = 3*n-1 + q\n",
    "        columns = [q, q+1, n+q, n+q+1]\n",
    "        values = 6*x[q+1], -6*x[q+1], 2, -2\n",
    "        A[row, [columns]] = values\n",
    "        # Значения функции для рядов C из промежутка [3n-1: 4n-2] равны нулю, поскольку мы приравниваем произвдоные\n",
    "\n",
    "    # Задаем вторые производные на граничны точках (x0, xn) равными нулю, \n",
    "    # чтобы получить два дополнительных уравнения - естественный сплайн\n",
    "    A[4*n-2, [0,n]] = 6*x[0], 2\n",
    "    A[4*n-1, [n-1,2*n-1]] =  6*x[n], 2\n",
    "\n",
    "    # Решаем относительно b\n",
    "    B = np.linalg.solve(A,C)\n",
    "\n",
    "    ai = B[:n]\n",
    "    bi = B[n:2*n]\n",
    "    ci = B[2*n:3*n]\n",
    "    di = B[3*n:]\n",
    "    \n",
    "    # Вычисление значения от кубического сплайна     \n",
    "    if fig == None:\n",
    "        flag, res = 0, 0\n",
    "        eps = 10**(-6)\n",
    "        for i in range(n):\n",
    "            if arg == a:\n",
    "                arg += eps\n",
    "                flag = i\n",
    "                res = ai[flag]*arg**3 + bi[flag]*arg**2 + ci[flag]*arg + di[flag]\n",
    "            elif arg == b:\n",
    "                arg -= eps\n",
    "                flag = i\n",
    "                res = ai[flag]*arg**3 + bi[flag]*arg**2 + ci[flag]*arg + di[flag]\n",
    "            elif (arg > x[i]) and (arg < x[i+1]):\n",
    "                flag = i\n",
    "                res = ai[flag]*arg**3 + bi[flag]*arg**2 + ci[flag]*arg + di[flag]\n",
    "        return res\n",
    "\n",
    "    # Изображение на графике     \n",
    "    elif fig == True:\n",
    "        plt.figure()\n",
    "        for k in range(n):\n",
    "            xspline = np.linspace(x[k], x[k+1])\n",
    "            yspline = ai[k]*xspline**3 + bi[k]*xspline**2 + ci[k]*xspline + di[k]    \n",
    "            plt.plot(xspline, yspline, '-', linewidth=4)\n",
    "\n",
    "        plt.xlabel('x')\n",
    "        plt.ylabel('y')\n",
    "        plt.title('$S_{3,2}^m$ по равноотстоящим узлам для $f(x)$')\n",
    "        plt.show()"
   ]
  },
  {
   "cell_type": "code",
   "execution_count": 348,
   "metadata": {},
   "outputs": [
    {
     "data": {
      "text/plain": [
       "26.835687964475127"
      ]
     },
     "execution_count": 348,
     "metadata": {},
     "output_type": "execute_result"
    }
   ],
   "source": [
    "cub_spline(arg=-5, a=-10, b=10, m=100)"
   ]
  },
  {
   "cell_type": "markdown",
   "metadata": {},
   "source": [
    "## Изобразим $S_{3,2}^m$ по равноотстоящим узлам"
   ]
  },
  {
   "cell_type": "code",
   "execution_count": 349,
   "metadata": {},
   "outputs": [
    {
     "data": {
      "image/png": "[encoded data removed]",
      "text/plain": [
       "<Figure size 432x288 with 1 Axes>"
      ]
     },
     "metadata": {
      "needs_background": "light"
     },
     "output_type": "display_data"
    }
   ],
   "source": [
    "cub_spline(arg=5, a=-10, b=10, m=10, fig=True)"
   ]
  },
  {
   "cell_type": "markdown",
   "metadata": {},
   "source": [
    "## Кубические сплайны по оптимальным узлам Чебышева $$x_i = 0.5 \\left((b-a)\\cos\\dfrac{(2i+1)\\pi}{2(n+1)} + (b+a)\\right),\\; i\\in \\overline{0,n}$$"
   ]
  },
  {
   "cell_type": "code",
   "execution_count": 353,
   "metadata": {},
   "outputs": [],
   "source": [
    "def optimal_cub_spline(arg, a, b, m, fig=None):\n",
    "    chebish = []\n",
    "    n = m - 1\n",
    "    for i in range(0, m):\n",
    "        chebish.append(0.5 * ((b-a)*np.cos(((2*i+1)*np.pi)/(2*(m+1))) + (b+a)))\n",
    "\n",
    "    A_opt = np.zeros((4*n, 4*n))*1.0\n",
    "    C_opt = np.zeros(4*n)*1.0\n",
    "\n",
    "    for i in range(n):\n",
    "        A_opt[i, i] = chebish[i]**3\n",
    "        A_opt[i, n+i] = chebish[i]**2\n",
    "        A_opt[i, 2*n+i] = chebish[i]\n",
    "        A_opt[i, 3*n+i] = 1\n",
    "\n",
    "        # Строки [n, 2n-1]\n",
    "        A_opt[n+i, i] = chebish[i+1]**3\n",
    "        A_opt[n+i, n+i] = chebish[i+1]**2\n",
    "        A_opt[n+i, 2*n+i] = chebish[i+1]\n",
    "        A_opt[n+i, 3*n+i] = 1\n",
    "\n",
    "        C_opt[i] = fn(chebish[i])\n",
    "        C_opt[n+i] = fn(chebish[i+1])\n",
    "\n",
    "    # Строки [2n, 3n-1]\n",
    "    for j in range(n-1):\n",
    "        row = 2*n+j\n",
    "        columns = [j, j+1, n+j, n+j+1, 2*n+j, 2*n+j+1]\n",
    "        # start at j+1 since derivatives are equal at the interior points\n",
    "        values = 3*chebish[j+1]**2, -3*chebish[j+1]**2, 2*chebish[j+1], -2*chebish[j+1], 1, -1\n",
    "        A_opt[row, [columns]] = values\n",
    "\n",
    "        # Строки [3n-1, 4n-2]\n",
    "    for q in range(n-1):\n",
    "        row = 3*n-1 + q\n",
    "        columns = [q, q+1, n+q, n+q+1]\n",
    "        values = 6*chebish[q+1], -6*chebish[q+1], 2, -2\n",
    "        A_opt[row, [columns]] = values\n",
    "\n",
    "    # Задаем вторые производные на граничны точках (x0, xn) равными нулю, \n",
    "    # чтобы получить два дополнительных уравнения - естественный сплайн\n",
    "    A_opt[4*n-2, [0,n]] = 6*chebish[0], 2\n",
    "    A_opt[4*n-1, [n-1,2*n-1]] =  6*chebish[n], 2\n",
    "\n",
    "    # Решаем относительно b\n",
    "    B_opt = np.linalg.solve(A_opt, C_opt)\n",
    "\n",
    "    ai_opt = B_opt[:n]\n",
    "    bi_opt = B_opt[n:2*n]\n",
    "    ci_opt = B_opt[2*n:3*n]\n",
    "    di_opt = B_opt[3*n:]\n",
    "    \n",
    "    # Вычисление значения от кубического сплайна   \n",
    "    if fig == None:\n",
    "        flag, res = 0, 0\n",
    "        eps = 10**(-5)\n",
    "        for i in range(n):\n",
    "            if arg == a:\n",
    "                arg += eps + 1\n",
    "                flag = i\n",
    "                res = ai_opt[flag]*arg**3 + bi_opt[flag]*arg**2 + ci_opt[flag]*arg + di_opt[flag]\n",
    "            elif arg == b:\n",
    "                arg -= eps\n",
    "                flag = i\n",
    "                res = ai_opt[flag]*arg**3 + bi_opt[flag]*arg**2 + ci_opt[flag]*arg + di_opt[flag]\n",
    "            elif (arg < chebish[i]) and (arg > chebish[i+1]):\n",
    "                flag = i\n",
    "                res = ai_opt[flag]*arg**3 + bi_opt[flag]*arg**2 + ci_opt[flag]*arg + di_opt[flag]\n",
    "        return res\n",
    "\n",
    "    # Изображение на графике     \n",
    "    elif fig == True:\n",
    "        plt.figure()\n",
    "        for k in range(n):\n",
    "            xspline = np.linspace(chebish[k], chebish[k+1])\n",
    "            yspline = ai_opt[k]*xspline**3 + bi_opt[k]*xspline**2 + ci_opt[k]*xspline + di_opt[k]    \n",
    "            plt.plot(xspline, yspline, '-', linewidth=4)\n",
    "\n",
    "        plt.xlabel('x')\n",
    "        plt.ylabel('y')\n",
    "        plt.title('$S_{3,2}^m$ по равноотстоящим узлам для $f(x)$')\n",
    "        plt.show()"
   ]
  },
  {
   "cell_type": "code",
   "execution_count": 354,
   "metadata": {},
   "outputs": [
    {
     "data": {
      "text/plain": [
       "77.49691731732446"
      ]
     },
     "execution_count": 354,
     "metadata": {},
     "output_type": "execute_result"
    }
   ],
   "source": [
    "optimal_cub_spline(arg=-9, a=-10, b=10, m=10, fig=None)"
   ]
  },
  {
   "cell_type": "markdown",
   "metadata": {},
   "source": [
    "## Изобразим  $S^m_{3,2}$ по оптимальным узлам Чебышева"
   ]
  },
  {
   "cell_type": "code",
   "execution_count": 355,
   "metadata": {},
   "outputs": [
    {
     "data": {
      "image/png": "[encoded data removed]",
      "text/plain": [
       "<Figure size 432x288 with 1 Axes>"
      ]
     },
     "metadata": {
      "needs_background": "light"
     },
     "output_type": "display_data"
    }
   ],
   "source": [
    "optimal_cub_spline(arg=5, a=-11, b=10, m=10, fig=True)"
   ]
  },
  {
   "cell_type": "markdown",
   "metadata": {},
   "source": [
    "## Найдем максимальные отклонения $RS_{3,2}^n, RS_{3,2}^{n_{opt}}$"
   ]
  },
  {
   "cell_type": "code",
   "execution_count": 356,
   "metadata": {
    "scrolled": false
   },
   "outputs": [
    {
     "name": "stdout",
     "output_type": "stream",
     "text": [
      "Введите количество k точек разбиения интервала интерполирования, в которых определяются отклонения: 350\n",
      "Введите максимальное количество max_nodes узлов: 150\n",
      "Таблица 1:\n",
      "-----------------------------------------------------------------------------------------------------------\n",
      "| кол-во узлов, n | кол-во точек разбиения, k   | max RSn_mp \t\t | max RSn_opt_mp \t\t|\n",
      "-----------------------------------------------------------------------------------------------------------\n",
      "|\t 3 \t|\t\t 350 \t  | 12.458125809601754 \t| 98.83743242505736 \t\t |\n",
      "-----------------------------------------------------------------------------------------------------------\n",
      "|\t 4 \t|\t\t 350 \t  | 10.311902646686718 \t| 98.83743242505736 \t\t |\n",
      "-----------------------------------------------------------------------------------------------------------\n",
      "|\t 5 \t|\t\t 350 \t  | 9.746588936070154 \t| 98.83743242505736 \t\t |\n",
      "-----------------------------------------------------------------------------------------------------------\n",
      "|\t 6 \t|\t\t 350 \t  | 7.866196906610703 \t| 98.83743242505736 \t\t |\n",
      "-----------------------------------------------------------------------------------------------------------\n",
      "|\t 7 \t|\t\t 350 \t  | 4.8652350599579375 \t| 98.83743242505736 \t\t |\n",
      "-----------------------------------------------------------------------------------------------------------\n",
      "|\t 8 \t|\t\t 350 \t  | 1.6077904203861522 \t| 98.83743242505736 \t\t |\n",
      "-----------------------------------------------------------------------------------------------------------\n",
      "|\t 9 \t|\t\t 350 \t  | 1.2806813012200955 \t| 98.83743242505736 \t\t |\n",
      "-----------------------------------------------------------------------------------------------------------\n",
      "|\t 10 \t|\t\t 350 \t  | 0.8651774284181073 \t| 98.83743242505736 \t\t |\n",
      "-----------------------------------------------------------------------------------------------------------\n",
      "|\t 11 \t|\t\t 350 \t  | 0.7933189505386196 \t| 98.83743242505736 \t\t |\n",
      "-----------------------------------------------------------------------------------------------------------\n",
      "|\t 12 \t|\t\t 350 \t  | 0.6915055935338756 \t| 98.83743242505736 \t\t |\n",
      "-----------------------------------------------------------------------------------------------------------\n",
      "|\t 13 \t|\t\t 350 \t  | 0.5947525622781029 \t| 98.83743242505736 \t\t |\n",
      "-----------------------------------------------------------------------------------------------------------\n",
      "|\t 14 \t|\t\t 350 \t  | 0.5113545287195222 \t| 98.83743242505736 \t\t |\n",
      "-----------------------------------------------------------------------------------------------------------\n",
      "|\t 15 \t|\t\t 350 \t  | 0.44231329992634016 \t| 98.83743242505736 \t\t |\n",
      "-----------------------------------------------------------------------------------------------------------\n",
      "|\t 16 \t|\t\t 350 \t  | 0.38561969376016236 \t| 98.83743242505736 \t\t |\n",
      "-----------------------------------------------------------------------------------------------------------\n",
      "|\t 17 \t|\t\t 350 \t  | 0.33763353700756227 \t| 98.83743242505736 \t\t |\n",
      "-----------------------------------------------------------------------------------------------------------\n",
      "|\t 18 \t|\t\t 350 \t  | 0.29887457581978083 \t| 98.83743242505736 \t\t |\n",
      "-----------------------------------------------------------------------------------------------------------\n",
      "|\t 19 \t|\t\t 350 \t  | 0.2650078521176056 \t| 98.83743242505736 \t\t |\n",
      "-----------------------------------------------------------------------------------------------------------\n",
      "|\t 20 \t|\t\t 350 \t  | 0.23786955580837343 \t| 98.83743242505736 \t\t |\n",
      "-----------------------------------------------------------------------------------------------------------\n",
      "|\t 21 \t|\t\t 350 \t  | 0.21377499475374862 \t| 98.83743242505736 \t\t |\n",
      "-----------------------------------------------------------------------------------------------------------\n",
      "|\t 22 \t|\t\t 350 \t  | 0.19308882233532643 \t| 98.83743242505736 \t\t |\n",
      "-----------------------------------------------------------------------------------------------------------\n",
      "|\t 23 \t|\t\t 350 \t  | 0.17595601958807094 \t| 98.83743242505736 \t\t |\n",
      "-----------------------------------------------------------------------------------------------------------\n",
      "|\t 24 \t|\t\t 350 \t  | 0.16051693648354615 \t| 98.83743242505736 \t\t |\n",
      "-----------------------------------------------------------------------------------------------------------\n",
      "|\t 25 \t|\t\t 350 \t  | 0.14655860656468178 \t| 98.83743242505736 \t\t |\n",
      "-----------------------------------------------------------------------------------------------------------\n",
      "|\t 26 \t|\t\t 350 \t  | 0.13492849559270326 \t| 98.83743242505736 \t\t |\n",
      "-----------------------------------------------------------------------------------------------------------\n",
      "|\t 27 \t|\t\t 350 \t  | 0.1248600583542725 \t| 98.83743242505736 \t\t |\n",
      "-----------------------------------------------------------------------------------------------------------\n",
      "|\t 28 \t|\t\t 350 \t  | 0.11564020646261497 \t| 98.83743242505736 \t\t |\n",
      "-----------------------------------------------------------------------------------------------------------\n",
      "|\t 29 \t|\t\t 350 \t  | 0.10717595167460559 \t| 98.83743242505736 \t\t |\n",
      "-----------------------------------------------------------------------------------------------------------\n",
      "|\t 30 \t|\t\t 350 \t  | 0.09938721352835955 \t| 98.83743242505736 \t\t |\n",
      "-----------------------------------------------------------------------------------------------------------\n",
      "|\t 31 \t|\t\t 350 \t  | 0.09251252280733979 \t| 98.83743242505736 \t\t |\n",
      "-----------------------------------------------------------------------------------------------------------\n",
      "|\t 32 \t|\t\t 350 \t  | 0.08689297737390689 \t| 98.83743242505736 \t\t |\n",
      "-----------------------------------------------------------------------------------------------------------\n",
      "|\t 33 \t|\t\t 350 \t  | 0.08166860488910288 \t| 98.83743242505736 \t\t |\n",
      "-----------------------------------------------------------------------------------------------------------\n",
      "|\t 34 \t|\t\t 350 \t  | 0.07680254496966654 \t| 98.83743242505736 \t\t |\n",
      "-----------------------------------------------------------------------------------------------------------\n",
      "|\t 35 \t|\t\t 350 \t  | 0.07226235965680416 \t| 98.83743242505736 \t\t |\n",
      "-----------------------------------------------------------------------------------------------------------\n",
      "|\t 36 \t|\t\t 350 \t  | 0.06801939563371207 \t| 98.83743242505736 \t\t |\n",
      "-----------------------------------------------------------------------------------------------------------\n",
      "|\t 37 \t|\t\t 350 \t  | 0.06404825221483179 \t| 98.83743242505736 \t\t |\n",
      "-----------------------------------------------------------------------------------------------------------\n",
      "|\t 38 \t|\t\t 350 \t  | 0.06032633557464351 \t| 98.83743242505736 \t\t |\n",
      "-----------------------------------------------------------------------------------------------------------\n",
      "|\t 39 \t|\t\t 350 \t  | 0.05683348360236096 \t| 98.83743242505736 \t\t |\n",
      "-----------------------------------------------------------------------------------------------------------\n",
      "|\t 40 \t|\t\t 350 \t  | 0.05407522832285849 \t| 98.83743242505736 \t\t |\n",
      "-----------------------------------------------------------------------------------------------------------\n",
      "|\t 41 \t|\t\t 350 \t  | 0.05158081325055264 \t| 98.83743242505736 \t\t |\n",
      "-----------------------------------------------------------------------------------------------------------\n",
      "|\t 42 \t|\t\t 350 \t  | 0.049221741004998876 \t| 98.83743242505736 \t\t |\n",
      "-----------------------------------------------------------------------------------------------------------\n",
      "|\t 43 \t|\t\t 350 \t  | 0.04698812988647205 \t| 0.002907667003416048 \t\t |\n",
      "-----------------------------------------------------------------------------------------------------------\n",
      "|\t 44 \t|\t\t 350 \t  | 0.04487103735220899 \t| 0.0025776152235081895 \t\t |\n",
      "-----------------------------------------------------------------------------------------------------------\n",
      "|\t 45 \t|\t\t 350 \t  | 0.04286235123674942 \t| 0.002396919112249485 \t\t |\n",
      "-----------------------------------------------------------------------------------------------------------\n",
      "|\t 46 \t|\t\t 350 \t  | 0.04095469569017496 \t| 0.0021573534432701713 \t\t |\n",
      "-----------------------------------------------------------------------------------------------------------\n",
      "|\t 47 \t|\t\t 350 \t  | 0.03914134958620252 \t| 0.001982985704052531 \t\t |\n",
      "-----------------------------------------------------------------------------------------------------------\n"
     ]
    },
    {
     "name": "stdout",
     "output_type": "stream",
     "text": [
      "|\t 48 \t|\t\t 350 \t  | 0.03741617550974752 \t| 0.0018325669542154088 \t\t |\n",
      "-----------------------------------------------------------------------------------------------------------\n",
      "|\t 49 \t|\t\t 350 \t  | 0.03577355778054425 \t| 0.0016459398038586315 \t\t |\n",
      "-----------------------------------------------------------------------------------------------------------\n",
      "|\t 50 \t|\t\t 350 \t  | 0.03420834818678031 \t| 0.0015622713987464287 \t\t |\n",
      "-----------------------------------------------------------------------------------------------------------\n",
      "|\t 51 \t|\t\t 350 \t  | 0.032715818337351266 \t| 0.001379148299616162 \t\t |\n",
      "-----------------------------------------------------------------------------------------------------------\n",
      "|\t 52 \t|\t\t 350 \t  | 0.0312916177298348 \t| 0.0013313350010299985 \t\t |\n",
      "-----------------------------------------------------------------------------------------------------------\n",
      "|\t 53 \t|\t\t 350 \t  | 0.029931736734056358 \t| 0.0011990484821087222 \t\t |\n",
      "-----------------------------------------------------------------------------------------------------------\n",
      "|\t 54 \t|\t\t 350 \t  | 0.028632473841867068 \t| 0.0011347581820251307 \t\t |\n",
      "-----------------------------------------------------------------------------------------------------------\n",
      "|\t 55 \t|\t\t 350 \t  | 0.02754299951047301 \t| 0.001041428060714722 \t\t |\n",
      "-----------------------------------------------------------------------------------------------------------\n",
      "|\t 56 \t|\t\t 350 \t  | 0.02666656100299747 \t| 0.0009653157649660571 \t\t |\n",
      "-----------------------------------------------------------------------------------------------------------\n",
      "|\t 57 \t|\t\t 350 \t  | 0.025824221723581786 \t| 0.0009073679943139012 \t\t |\n",
      "-----------------------------------------------------------------------------------------------------------\n",
      "|\t 58 \t|\t\t 350 \t  | 0.025014160428639798 \t| 0.0008306413456442563 \t\t |\n",
      "-----------------------------------------------------------------------------------------------------------\n",
      "|\t 59 \t|\t\t 350 \t  | 0.024234683494881892 \t| 0.0007940896612552706 \t\t |\n",
      "-----------------------------------------------------------------------------------------------------------\n",
      "|\t 60 \t|\t\t 350 \t  | 0.02348421393239164 \t| 0.0007257830169296042 \t\t |\n",
      "-----------------------------------------------------------------------------------------------------------\n",
      "|\t 61 \t|\t\t 350 \t  | 0.022761281498645758 \t| 0.0006970514520738824 \t\t |\n",
      "-----------------------------------------------------------------------------------------------------------\n",
      "|\t 62 \t|\t\t 350 \t  | 0.0220645138125235 \t| 0.000632839043890776 \t\t |\n",
      "-----------------------------------------------------------------------------------------------------------\n",
      "|\t 63 \t|\t\t 350 \t  | 0.021392628340294095 \t| 0.0006112030896656684 \t\t |\n",
      "-----------------------------------------------------------------------------------------------------------\n",
      "|\t 64 \t|\t\t 350 \t  | 0.020744425148535584 \t| 0.0005638340001912212 \t\t |\n",
      "-----------------------------------------------------------------------------------------------------------\n",
      "|\t 65 \t|\t\t 350 \t  | 0.020118780363048927 \t| 0.0005317307905876589 \t\t |\n",
      "-----------------------------------------------------------------------------------------------------------\n",
      "|\t 66 \t|\t\t 350 \t  | 0.019514640215533063 \t| 0.0005023556051035882 \t\t |\n",
      "-----------------------------------------------------------------------------------------------------------\n",
      "|\t 67 \t|\t\t 350 \t  | 0.01893101567597455 \t| 0.0004628685903629304 \t\t |\n",
      "-----------------------------------------------------------------------------------------------------------\n",
      "|\t 68 \t|\t\t 350 \t  | 0.01836697752955274 \t| 0.00044545757528879903 \t\t |\n",
      "-----------------------------------------------------------------------------------------------------------\n",
      "|\t 69 \t|\t\t 350 \t  | 0.017821651936031913 \t| 0.00041704916182627727 \t\t |\n",
      "-----------------------------------------------------------------------------------------------------------\n",
      "|\t 70 \t|\t\t 350 \t  | 0.017294216350677516 \t| 0.0003901855906129903 \t\t |\n",
      "-----------------------------------------------------------------------------------------------------------\n",
      "|\t 71 \t|\t\t 350 \t  | 0.016783895810789318 \t| 0.0003668870970883198 \t\t |\n",
      "-----------------------------------------------------------------------------------------------------------\n",
      "|\t 72 \t|\t\t 350 \t  | 0.01628995955010737 \t| 0.00035130804455985043 \t\t |\n",
      "-----------------------------------------------------------------------------------------------------------\n",
      "|\t 73 \t|\t\t 350 \t  | 0.015811717873333464 \t| 0.0003312691688073244 \t\t |\n",
      "-----------------------------------------------------------------------------------------------------------\n",
      "|\t 74 \t|\t\t 350 \t  | 0.015348519321236154 \t| 0.0003189861936334637 \t\t |\n",
      "-----------------------------------------------------------------------------------------------------------\n",
      "|\t 75 \t|\t\t 350 \t  | 0.014899748047668027 \t| 0.00029678097658702995 \t\t |\n",
      "-----------------------------------------------------------------------------------------------------------\n",
      "|\t 76 \t|\t\t 350 \t  | 0.014464821425320906 \t| 0.00028139676842364736 \t\t |\n",
      "-----------------------------------------------------------------------------------------------------------\n",
      "|\t 77 \t|\t\t 350 \t  | 0.014043187812006863 \t| 0.0002598150843557967 \t\t |\n",
      "-----------------------------------------------------------------------------------------------------------\n",
      "|\t 78 \t|\t\t 350 \t  | 0.013634324540220177 \t| 0.0002522048058297699 \t\t |\n",
      "-----------------------------------------------------------------------------------------------------------\n",
      "|\t 79 \t|\t\t 350 \t  | 0.013237736029481084 \t| 0.00024321300496987774 \t\t |\n",
      "-----------------------------------------------------------------------------------------------------------\n",
      "|\t 80 \t|\t\t 350 \t  | 0.012852952040560695 \t| 0.00023016238884210338 \t\t |\n",
      "-----------------------------------------------------------------------------------------------------------\n",
      "|\t 81 \t|\t\t 350 \t  | 0.012479526081136783 \t| 0.00022112759077597133 \t\t |\n",
      "-----------------------------------------------------------------------------------------------------------\n",
      "|\t 82 \t|\t\t 350 \t  | 0.012117033943781053 \t| 0.00020688957565262456 \t\t |\n",
      "-----------------------------------------------------------------------------------------------------------\n",
      "|\t 83 \t|\t\t 350 \t  | 0.011765072299425583 \t| 0.00020380246685647307 \t\t |\n",
      "-----------------------------------------------------------------------------------------------------------\n",
      "|\t 84 \t|\t\t 350 \t  | 0.011423257439531653 \t| 0.00020207049063003524 \t\t |\n",
      "-----------------------------------------------------------------------------------------------------------\n",
      "|\t 85 \t|\t\t 350 \t  | 0.0110912241078438 \t| 0.0002004375183588536 \t\t |\n",
      "-----------------------------------------------------------------------------------------------------------\n",
      "|\t 86 \t|\t\t 350 \t  | 0.010768624390351533 \t| 0.0001988968052302198 \t\t |\n",
      "-----------------------------------------------------------------------------------------------------------\n",
      "|\t 87 \t|\t\t 350 \t  | 0.010455126696200523 \t| 0.00019744213757633133 \t\t |\n",
      "-----------------------------------------------------------------------------------------------------------\n",
      "|\t 88 \t|\t\t 350 \t  | 0.01015041481682033 \t| 0.00019606796384152858 \t\t |\n",
      "-----------------------------------------------------------------------------------------------------------\n",
      "|\t 89 \t|\t\t 350 \t  | 0.009854187044169294 \t| 0.00019476883433355852 \t\t |\n",
      "-----------------------------------------------------------------------------------------------------------\n",
      "|\t 90 \t|\t\t 350 \t  | 0.009566155339456373 \t| 0.00019354004150784476 \t\t |\n",
      "-----------------------------------------------------------------------------------------------------------\n",
      "|\t 91 \t|\t\t 350 \t  | 0.009286044576441554 \t| 0.00019237692147555663 \t\t |\n",
      "-----------------------------------------------------------------------------------------------------------\n",
      "|\t 92 \t|\t\t 350 \t  | 0.009106827373798865 \t| 0.00019127539970043017 \t\t |\n",
      "-----------------------------------------------------------------------------------------------------------\n",
      "|\t 93 \t|\t\t 350 \t  | 0.008949226282439326 \t| 0.0001902315762691842 \t\t |\n",
      "-----------------------------------------------------------------------------------------------------------\n"
     ]
    },
    {
     "name": "stdout",
     "output_type": "stream",
     "text": [
      "|\t 94 \t|\t\t 350 \t  | 0.008795211488305199 \t| 0.00018924190051450296 \t\t |\n",
      "-----------------------------------------------------------------------------------------------------------\n",
      "|\t 95 \t|\t\t 350 \t  | 0.00864466778888584 \t| 0.0001883029963920535 \t\t |\n",
      "-----------------------------------------------------------------------------------------------------------\n",
      "|\t 96 \t|\t\t 350 \t  | 0.008497484882028061 \t| 0.00018741179344772263 \t\t |\n",
      "-----------------------------------------------------------------------------------------------------------\n",
      "|\t 97 \t|\t\t 350 \t  | 0.008353557088540242 \t| 0.00018656546860995604 \t\t |\n",
      "-----------------------------------------------------------------------------------------------------------\n",
      "|\t 98 \t|\t\t 350 \t  | 0.008212783123454415 \t| 0.00018576119880719943 \t\t |\n",
      "-----------------------------------------------------------------------------------------------------------\n",
      "|\t 99 \t|\t\t 350 \t  | 0.008075065859102892 \t| 0.00018499661207727058 \t\t |\n",
      "-----------------------------------------------------------------------------------------------------------\n",
      "|\t 100 \t|\t\t 350 \t  | 0.007940312124574689 \t| 0.0001842693510099025 \t\t |\n",
      "-----------------------------------------------------------------------------------------------------------\n",
      "|\t 101 \t|\t\t 350 \t  | 0.007808432504717189 \t| 0.00018357739288887842 \t\t |\n",
      "-----------------------------------------------------------------------------------------------------------\n",
      "|\t 102 \t|\t\t 350 \t  | 0.0076793411364093345 \t| 0.00018291836575201614 \t\t |\n",
      "-----------------------------------------------------------------------------------------------------------\n"
     ]
    },
    {
     "ename": "KeyboardInterrupt",
     "evalue": "",
     "output_type": "error",
     "traceback": [
      "\u001b[0;31m---------------------------------------------------------------------------\u001b[0m",
      "\u001b[0;31mKeyboardInterrupt\u001b[0m                         Traceback (most recent call last)",
      "\u001b[0;32m/var/folders/8b/6ssktshx6r1fmq77tl5ypb7c0000gn/T/ipykernel_66451/4064559133.py\u001b[0m in \u001b[0;36m<module>\u001b[0;34m\u001b[0m\n\u001b[1;32m     23\u001b[0m     \u001b[0;32mfor\u001b[0m \u001b[0mp\u001b[0m \u001b[0;32min\u001b[0m \u001b[0mmds\u001b[0m\u001b[0;34m:\u001b[0m\u001b[0;34m\u001b[0m\u001b[0;34m\u001b[0m\u001b[0m\n\u001b[1;32m     24\u001b[0m         \u001b[0;31m# значения линейного сплайна S_{3,2}^n в точках x0, x1, ..., xk; k >> n\u001b[0m\u001b[0;34m\u001b[0m\u001b[0;34m\u001b[0m\u001b[0;34m\u001b[0m\u001b[0m\n\u001b[0;32m---> 25\u001b[0;31m         \u001b[0mspline_mds\u001b[0m\u001b[0;34m.\u001b[0m\u001b[0mappend\u001b[0m\u001b[0;34m(\u001b[0m\u001b[0mcub_spline\u001b[0m\u001b[0;34m(\u001b[0m\u001b[0marg\u001b[0m\u001b[0;34m=\u001b[0m\u001b[0mp\u001b[0m\u001b[0;34m,\u001b[0m \u001b[0ma\u001b[0m\u001b[0;34m=\u001b[0m\u001b[0;34m-\u001b[0m\u001b[0;36m10\u001b[0m\u001b[0;34m,\u001b[0m \u001b[0mb\u001b[0m\u001b[0;34m=\u001b[0m\u001b[0;36m10\u001b[0m\u001b[0;34m,\u001b[0m \u001b[0mm\u001b[0m\u001b[0;34m=\u001b[0m\u001b[0mpp\u001b[0m\u001b[0;34m)\u001b[0m\u001b[0;34m)\u001b[0m\u001b[0;34m\u001b[0m\u001b[0;34m\u001b[0m\u001b[0m\n\u001b[0m\u001b[1;32m     26\u001b[0m         \u001b[0;31m# значения линейного сплайна S_{3,2}^{n_opt} в точках x0, x1, ..., xk; k >> n\u001b[0m\u001b[0;34m\u001b[0m\u001b[0;34m\u001b[0m\u001b[0;34m\u001b[0m\u001b[0m\n\u001b[1;32m     27\u001b[0m         \u001b[0moptimal_spline_mds\u001b[0m\u001b[0;34m.\u001b[0m\u001b[0mappend\u001b[0m\u001b[0;34m(\u001b[0m\u001b[0moptimal_cub_spline\u001b[0m\u001b[0;34m(\u001b[0m\u001b[0marg\u001b[0m\u001b[0;34m=\u001b[0m\u001b[0mp\u001b[0m\u001b[0;34m,\u001b[0m \u001b[0ma\u001b[0m\u001b[0;34m=\u001b[0m\u001b[0;34m-\u001b[0m\u001b[0;36m10\u001b[0m\u001b[0;34m,\u001b[0m \u001b[0mb\u001b[0m\u001b[0;34m=\u001b[0m\u001b[0;36m10\u001b[0m\u001b[0;34m,\u001b[0m \u001b[0mm\u001b[0m\u001b[0;34m=\u001b[0m\u001b[0mpp\u001b[0m\u001b[0;34m)\u001b[0m\u001b[0;34m)\u001b[0m\u001b[0;34m\u001b[0m\u001b[0;34m\u001b[0m\u001b[0m\n",
      "\u001b[0;32m/var/folders/8b/6ssktshx6r1fmq77tl5ypb7c0000gn/T/ipykernel_66451/3689284344.py\u001b[0m in \u001b[0;36mcub_spline\u001b[0;34m(arg, a, b, m, fig)\u001b[0m\n\u001b[1;32m     29\u001b[0m         \u001b[0;31m#start at j+1 since derivatives are equal at the interior points\u001b[0m\u001b[0;34m\u001b[0m\u001b[0;34m\u001b[0m\u001b[0;34m\u001b[0m\u001b[0m\n\u001b[1;32m     30\u001b[0m         \u001b[0mvalues\u001b[0m \u001b[0;34m=\u001b[0m \u001b[0;36m3\u001b[0m\u001b[0;34m*\u001b[0m\u001b[0mx\u001b[0m\u001b[0;34m[\u001b[0m\u001b[0mj\u001b[0m\u001b[0;34m+\u001b[0m\u001b[0;36m1\u001b[0m\u001b[0;34m]\u001b[0m\u001b[0;34m**\u001b[0m\u001b[0;36m2\u001b[0m\u001b[0;34m,\u001b[0m \u001b[0;34m-\u001b[0m\u001b[0;36m3\u001b[0m\u001b[0;34m*\u001b[0m\u001b[0mx\u001b[0m\u001b[0;34m[\u001b[0m\u001b[0mj\u001b[0m\u001b[0;34m+\u001b[0m\u001b[0;36m1\u001b[0m\u001b[0;34m]\u001b[0m\u001b[0;34m**\u001b[0m\u001b[0;36m2\u001b[0m\u001b[0;34m,\u001b[0m \u001b[0;36m2\u001b[0m\u001b[0;34m*\u001b[0m\u001b[0mx\u001b[0m\u001b[0;34m[\u001b[0m\u001b[0mj\u001b[0m\u001b[0;34m+\u001b[0m\u001b[0;36m1\u001b[0m\u001b[0;34m]\u001b[0m\u001b[0;34m,\u001b[0m \u001b[0;34m-\u001b[0m\u001b[0;36m2\u001b[0m\u001b[0;34m*\u001b[0m\u001b[0mx\u001b[0m\u001b[0;34m[\u001b[0m\u001b[0mj\u001b[0m\u001b[0;34m+\u001b[0m\u001b[0;36m1\u001b[0m\u001b[0;34m]\u001b[0m\u001b[0;34m,\u001b[0m \u001b[0;36m1\u001b[0m\u001b[0;34m,\u001b[0m \u001b[0;34m-\u001b[0m\u001b[0;36m1\u001b[0m\u001b[0;34m\u001b[0m\u001b[0;34m\u001b[0m\u001b[0m\n\u001b[0;32m---> 31\u001b[0;31m         \u001b[0mA\u001b[0m\u001b[0;34m[\u001b[0m\u001b[0mrow\u001b[0m\u001b[0;34m,\u001b[0m \u001b[0;34m[\u001b[0m\u001b[0mcolumns\u001b[0m\u001b[0;34m]\u001b[0m\u001b[0;34m]\u001b[0m \u001b[0;34m=\u001b[0m \u001b[0mvalues\u001b[0m\u001b[0;34m\u001b[0m\u001b[0;34m\u001b[0m\u001b[0m\n\u001b[0m\u001b[1;32m     32\u001b[0m \u001b[0;34m\u001b[0m\u001b[0m\n\u001b[1;32m     33\u001b[0m         \u001b[0;31m# Значения функции для рядов C из промежутка [2n: 3n-1] равны нулю, поскольку мы приравниваем произвдоные\u001b[0m\u001b[0;34m\u001b[0m\u001b[0;34m\u001b[0m\u001b[0;34m\u001b[0m\u001b[0m\n",
      "\u001b[0;31mKeyboardInterrupt\u001b[0m: "
     ]
    }
   ],
   "source": [
    "k = int(input('Введите количество k точек разбиения интервала интерполирования, в которых определяются отклонения: '))\n",
    "max_nodes = int(input('Введите максимальное количество max_nodes узлов: '))\n",
    "# mds = maximum_difference_segment\n",
    "mds = np.linspace(a, b, k)\n",
    "\n",
    "func_mds = []\n",
    "spline_mds = []\n",
    "optimal_spline_mds = []\n",
    "RSn_mp = []\n",
    "RSn_opt_mp = []\n",
    "\n",
    "# значения точной функции в точках x0, x1, ..., xm; m >> n\n",
    "for i in mds:\n",
    "    func_mds.append(fn(i))\n",
    "\n",
    "print('Таблица 1:')\n",
    "print('-----------------------------------------------------------------------------------------------------------')\n",
    "print('| кол-во узлов, n | кол-во точек разбиения, k   | max RSn_mp \\t\\t | max RSn_opt_mp \\t\\t|' )\n",
    "print('-----------------------------------------------------------------------------------------------------------')\n",
    "\n",
    "for pp in range(3, max_nodes + 1):\n",
    "    # Ищем отклонения     \n",
    "    for p in mds:\n",
    "        # значения линейного сплайна S_{3,2}^n в точках x0, x1, ..., xk; k >> n  \n",
    "        spline_mds.append(cub_spline(arg=p, a=-10, b=10, m=pp))\n",
    "        # значения линейного сплайна S_{3,2}^{n_opt} в точках x0, x1, ..., xk; k >> n        \n",
    "        optimal_spline_mds.append(optimal_cub_spline(arg=p, a=-10, b=10, m=pp))    \n",
    "    # Отклонения\n",
    "    for j in range(1, len(mds)):\n",
    "        RSn_mp.append(np.absolute(func_mds[j] - spline_mds[j]))\n",
    "        RSn_opt_mp.append(np.absolute(func_mds[j] - optimal_spline_mds[j]))\n",
    "    RSn_mp_max = max(RSn_mp)\n",
    "    RSn_opt_mp_max = max(RSn_opt_mp)\n",
    "    \n",
    "    print('|\\t', pp, '\\t|\\t\\t', k, '\\t  |', RSn_mp_max, '\\t|', RSn_opt_mp_max, '\\t\\t |')\n",
    "    print('-----------------------------------------------------------------------------------------------------------')\n",
    "    RSn_mp = []\n",
    "    RSn_opt_mp = []\n",
    "    RSn_mp_max, RSn_opt_mp_max = 0, 0\n",
    "    spline_mds = []\n",
    "    optimal_spline_mds = []"
   ]
  },
  {
   "cell_type": "markdown",
   "metadata": {},
   "source": [
    "## Графики распределения абсолютной погрешности на интервале интерполирования для кубического сплайна $S_{3,2}$ и полинома Ньютона по равноотстоящим узлам и по «оптимальным узлам» при некоторых значениях $n$"
   ]
  },
  {
   "cell_type": "code",
   "execution_count": null,
   "metadata": {},
   "outputs": [],
   "source": []
  },
  {
   "cell_type": "code",
   "execution_count": null,
   "metadata": {},
   "outputs": [],
   "source": []
  },
  {
   "cell_type": "code",
   "execution_count": null,
   "metadata": {},
   "outputs": [],
   "source": []
  },
  {
   "cell_type": "code",
   "execution_count": null,
   "metadata": {},
   "outputs": [],
   "source": []
  },
  {
   "cell_type": "code",
   "execution_count": null,
   "metadata": {},
   "outputs": [],
   "source": []
  },
  {
   "cell_type": "code",
   "execution_count": null,
   "metadata": {},
   "outputs": [],
   "source": []
  }
 ],
 "metadata": {
  "kernelspec": {
   "display_name": "Python 3 (ipykernel)",
   "language": "python",
   "name": "python3"
  },
  "language_info": {
   "codemirror_mode": {
    "name": "ipython",
    "version": 3
   },
   "file_extension": ".py",
   "mimetype": "text/x-python",
   "name": "python",
   "nbconvert_exporter": "python",
   "pygments_lexer": "ipython3",
   "version": "3.9.6"
  }
 },
 "nbformat": 4,
 "nbformat_minor": 2
}
