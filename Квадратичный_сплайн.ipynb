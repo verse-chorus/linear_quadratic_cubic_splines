{
 "cells": [
  {
   "cell_type": "markdown",
   "metadata": {},
   "source": [
    "## Квадратичные сплайны"
   ]
  },
  {
   "cell_type": "markdown",
   "metadata": {},
   "source": [
    "$\\textbf{Квадратичный сплайн}$ (дефекта 1), интерполирующий $f(x)$ на $[a, b]$: $$c(x) := a_k + b_k (x-x_k) + c_k (x-x_k)^2 ,$$ \n",
    "\n",
    "где $x\\in [x_{k-1}, x_{k}] \\big|_{k=1}^n$\n",
    "\n",
    "$\\textbf{Обозначение квадратичного сплайна}$: $S^N_{m,p}$, где $N, m, p$ - кол-во узлов интерполирования, старшая степень и порядок гладкости сплайна соответственно.\n",
    "$\\textbf{Дефект сплайна}$ - разность $m - p$"
   ]
  },
  {
   "cell_type": "code",
   "execution_count": 218,
   "metadata": {},
   "outputs": [],
   "source": [
    "import numpy as np\n",
    "import matplotlib.pyplot as plt \n",
    "from sympy import *\n",
    "np.set_printoptions(suppress=True) # чтобы оч маленькие значения печатались в виде нулей"
   ]
  },
  {
   "cell_type": "code",
   "execution_count": 219,
   "metadata": {},
   "outputs": [],
   "source": [
    "# Исходная функция\n",
    "def fn(x):\n",
    "    return x**2 + 4*np.sin(x) - 2 "
   ]
  },
  {
   "cell_type": "markdown",
   "metadata": {},
   "source": [
    "## По $m$ равноотстоящим узлам"
   ]
  },
  {
   "cell_type": "code",
   "execution_count": 234,
   "metadata": {},
   "outputs": [
    {
     "name": "stdout",
     "output_type": "stream",
     "text": [
      "Введите левую границу a: -10\n",
      "Введите правую границу b: 10\n",
      "Введите кол-во равноотстоящих узлов m (целое число): 10\n"
     ]
    }
   ],
   "source": [
    "a = float(input('Введите левую границу a: '))\n",
    "b = float(input('Введите правую границу b: '))\n",
    "m = int(input('Введите кол-во равноотстоящих узлов m (целое число): '))\n",
    "\n",
    "x = np.linspace(a, b, m)\n",
    "\n",
    "# n - число квадратичных сплайнов, у каждого 3 неизвестных - значит, у нас 3*n неизвестных\n",
    "# Надо решить 3*n уравнения\n",
    "n = m - 1\n",
    "\n",
    "# AB = C\n",
    "A = np.zeros((3*n, 3*n))\n",
    "C = np.zeros(3*n)\n",
    "\n",
    "for i in range(n):\n",
    "    A[i, i] = x[i]**2\n",
    "    A[i, n+i] = x[i]\n",
    "    A[i, 2*n+i] = 1\n",
    "    \n",
    "    # Строки [n, 2n-1]\n",
    "    A[n+i, i] = x[i+1]**2\n",
    "    A[n+i, n+i] = x[i+1]\n",
    "    A[n+i, 2*n+i] = 1\n",
    "    \n",
    "    C[i] = fn(x[i])\n",
    "    C[n+i] = fn(x[i+1])\n",
    "    \n",
    "# Строки [2n, 3n-1]\n",
    "for j in range(n-1): \n",
    "    A[2*n+j, [j, j+1, n+j, n+j+1]] = 2*x[j+1], -2*x[j+1], 1, -1\n",
    "\n",
    "# В последней строке задаем a_1 = 1    \n",
    "A[3*n-1, 0] = 1\n",
    "\n",
    "# Решаем относительно b\n",
    "B = np.linalg.solve(A,C)\n",
    "\n",
    "ai = B[:n]\n",
    "bi = B[n:2*n]\n",
    "ci = B[2*n:]"
   ]
  },
  {
   "cell_type": "markdown",
   "metadata": {},
   "source": [
    "## Отрисуем квадратичный сплайн по $m$ равноотстоящим узлам"
   ]
  },
  {
   "cell_type": "code",
   "execution_count": 235,
   "metadata": {},
   "outputs": [
    {
     "data": {
      "image/png": "[encoded data removed]",
      "text/plain": [
       "<Figure size 432x288 with 1 Axes>"
      ]
     },
     "metadata": {
      "needs_background": "light"
     },
     "output_type": "display_data"
    }
   ],
   "source": [
    "plt.figure()\n",
    "for k in range(n):\n",
    "    xspline = np.linspace(x[k], x[k+1], 100)\n",
    "    yspline = ai[k]*xspline**2 + bi[k]*xspline + ci[k]    \n",
    "    plt.plot(xspline, yspline, '-', linewidth=4)\n",
    "plt.xlabel('$x$')\n",
    "plt.ylabel('$y$')\n",
    "plt.title('Квадратичный сплайн по равноотстоящим узлам для $x^2 - 4 \\sin(x) - 2$')\n",
    "plt.show()"
   ]
  },
  {
   "cell_type": "markdown",
   "metadata": {},
   "source": [
    "## Оптимальные узлы Чебышева"
   ]
  },
  {
   "cell_type": "code",
   "execution_count": 236,
   "metadata": {},
   "outputs": [],
   "source": [
    "# оптимальные узлы Чебышева\n",
    "chebish = []\n",
    "for i in range(0, m):\n",
    "    chebish.append(0.5 * ((b-a)*np.cos(((2*i+1)*np.pi)/(2*(m+1))) + (b+a)))"
   ]
  },
  {
   "cell_type": "code",
   "execution_count": 237,
   "metadata": {},
   "outputs": [],
   "source": [
    "# n - число квадратичных сплайнов по узлам Чебышева, у каждого 3 неизвестных - значит, у нас 3*n неизвестных\n",
    "# Надо решить 3*n уравнения\n",
    "n = m - 1\n",
    "\n",
    "# A_opt * B_opt = C_opt\n",
    "A_opt = np.zeros((3*n, 3*n))*1.0\n",
    "C_opt = np.zeros(3*n)*1.0\n",
    "\n",
    "for i in range(n):\n",
    "    A_opt[i, i] = chebish[i]**2\n",
    "    A_opt[i, n+i] = chebish[i]\n",
    "    A_opt[i, 2*n+i] = 1\n",
    "    \n",
    "    # Строки [n, 2n-1]\n",
    "    A_opt[n+i, i] = chebish[i+1]**2\n",
    "    A_opt[n+i, n+i] = chebish[i+1]\n",
    "    A_opt[n+i, 2*n+i] = 1\n",
    "    \n",
    "    C_opt[i] = fn(chebish[i])\n",
    "    C_opt[n+i] = fn(chebish[i+1])\n",
    "    \n",
    "# Строки [2n, 3n-1]\n",
    "for j in range(n-1): \n",
    "    A_opt[2*n+j, [j, j+1, n+j, n+j+1]] = 2*chebish[j+1], -2*chebish[j+1], 1, -1\n",
    "\n",
    "# В последней строке задаем a_1 = 1    \n",
    "A_opt[3*n-1, 0] = 1\n",
    "\n",
    "# Решаем относительно b\n",
    "B_opt = np.linalg.solve(A_opt, C_opt)\n",
    "\n",
    "ai_opt = B_opt[:n]\n",
    "bi_opt = B_opt[n:2*n]\n",
    "ci_opt = B_opt[2*n:]"
   ]
  },
  {
   "cell_type": "markdown",
   "metadata": {},
   "source": [
    "## Отрисуем квадратичный сплайн по $m$ узлам Чебышева"
   ]
  },
  {
   "cell_type": "code",
   "execution_count": 238,
   "metadata": {},
   "outputs": [
    {
     "data": {
      "image/png": "[encoded data removed]",
      "text/plain": [
       "<Figure size 432x288 with 1 Axes>"
      ]
     },
     "metadata": {
      "needs_background": "light"
     },
     "output_type": "display_data"
    }
   ],
   "source": [
    "plt.figure()\n",
    "\n",
    "for k in range(n):\n",
    "    xspline_opt = np.linspace(chebish[k], chebish[k+1])\n",
    "    yspline_opt = ai_opt[k]*xspline_opt**2 + bi_opt[k]*xspline_opt + ci_opt[k]\n",
    "    plt.plot(xspline_opt, yspline_opt, '-', linewidth=4)\n",
    "plt.xlabel('$x$')\n",
    "plt.ylabel('$y$')\n",
    "plt.title('Квадратичный сплайн по узлам Чебышева для $x^2 - 4 \\sin(x) - 2$')\n",
    "plt.show()"
   ]
  },
  {
   "cell_type": "markdown",
   "metadata": {},
   "source": [
    "## Найдем максимальные разности $RS_{m,p}^n$"
   ]
  },
  {
   "cell_type": "code",
   "execution_count": 239,
   "metadata": {},
   "outputs": [],
   "source": [
    "x = np.linspace(a, b, m)\n",
    "\n",
    "# n - число квадратичных сплайнов, у каждого 3 неизвестных - значит, у нас 3*n неизвестных\n",
    "# Надо решить 3*n уравнения\n",
    "n = m - 1\n",
    "\n",
    "# AB = C\n",
    "A = np.zeros((3*n, 3*n))\n",
    "C = np.zeros(3*n)\n",
    "\n",
    "for i in range(n):\n",
    "    A[i, i] = x[i]**2\n",
    "    A[i, n+i] = x[i]\n",
    "    A[i, 2*n+i] = 1\n",
    "    \n",
    "    # Строки [n, 2n-1]\n",
    "    A[n+i, i] = x[i+1]**2\n",
    "    A[n+i, n+i] = x[i+1]\n",
    "    A[n+i, 2*n+i] = 1\n",
    "    \n",
    "    C[i] = fn(x[i])\n",
    "    C[n+i] = fn(x[i+1])\n",
    "    \n",
    "# Строки [2n, 3n-1]\n",
    "for j in range(n-1): \n",
    "    A[2*n+j, [j, j+1, n+j, n+j+1]] = 2*x[j+1], -2*x[j+1], 1, -1\n",
    "\n",
    "# В последней строке задаем a_1 = 1    \n",
    "A[3*n-1, 0] = 1\n",
    "\n",
    "# Решаем относительно b\n",
    "B = np.linalg.solve(A,C)\n",
    "\n",
    "ai = B[:n]\n",
    "bi = B[n:2*n]\n",
    "ci = B[2*n:]"
   ]
  },
  {
   "cell_type": "code",
   "execution_count": 240,
   "metadata": {},
   "outputs": [
    {
     "name": "stdout",
     "output_type": "stream",
     "text": [
      "[   0.            4.59468791   -4.32544161    5.82953805   -1.49743095\n",
      "    1.16532385    1.3305797     2.40017399   -2.9948619   -20.55179198\n",
      "   50.92113107  -48.19141912   19.50844526    3.22629192   -2.69094098\n",
      "   -3.79264663  -15.67702766   68.24575299 -105.34183537  172.60842093\n",
      " -102.70421847   10.12888883    1.08324809    4.3705997     6.20677579\n",
      "   39.21894531 -287.14742388]\n"
     ]
    }
   ],
   "source": [
    "print(B)"
   ]
  },
  {
   "cell_type": "markdown",
   "metadata": {},
   "source": []
  },
  {
   "cell_type": "code",
   "execution_count": 245,
   "metadata": {},
   "outputs": [
    {
     "name": "stdout",
     "output_type": "stream",
     "text": [
      "[-10.          -7.77777778  -5.55555556  -3.33333333  -1.11111111\n",
      "   1.11111111   3.33333333   5.55555556   7.77777778  10.        ]\n"
     ]
    }
   ],
   "source": [
    "print(x)"
   ]
  },
  {
   "cell_type": "code",
   "execution_count": 283,
   "metadata": {},
   "outputs": [
    {
     "name": "stdout",
     "output_type": "stream",
     "text": [
      "(-10.0, -7.777777777777778), arg = 6\n",
      "(-7.777777777777778, -5.555555555555555), arg = 6\n",
      "(-5.555555555555555, -3.333333333333333), arg = 6\n",
      "(-3.333333333333333, -1.1111111111111107), arg = 6\n",
      "(-1.1111111111111107, 1.1111111111111107), arg = 6\n",
      "(1.1111111111111107, 3.333333333333334), arg = 6\n",
      "(3.333333333333334, 5.555555555555557), arg = 6\n",
      "(5.555555555555557, 7.777777777777779), arg = 6\n",
      "Для вычисления необходим сплайн из интервала (5.555555555555557, 7.777777777777779) spline number 7\n",
      "(7.777777777777779, 10.0), arg = 6\n"
     ]
    }
   ],
   "source": [
    "arg = 6\n",
    "counter = 0\n",
    "for i in range(n):\n",
    "    print('({0}, {1}),'.format(x[i], x[i+1]), 'arg = {}'.format(arg))\n",
    "    if (arg >= x[i]) and (arg <= x[i+1]):\n",
    "        print('Для вычисления необходим сплайн из интервала ({0}, {1})'.format(x[counter], x[counter + 1]),\n",
    "              'spline number {}'.format(flag))\n",
    "        flag = counter\n",
    "    counter += 1"
   ]
  },
  {
   "cell_type": "code",
   "execution_count": 273,
   "metadata": {},
   "outputs": [],
   "source": [
    "def quadratic_spline(arg):\n",
    "    if (arg > b) or (arg < a):\n",
    "        print('Введенный аргумент лежит вне рассматриваемого интервала')\n",
    "    else:\n",
    "        result, counter, flag = 0, 0, 0\n",
    "        # Нахождение нужного участка интервала с помощью цикла\n",
    "        for i in range(n):\n",
    "            if (arg >= x[i]) and (arg <= x[i+1]):\n",
    "                print('Для вычисления необходим сплайн из интервала ({0}, {1})'.format(x[counter], x[counter + 1]))\n",
    "                flag = counter\n",
    "            counter += 1\n",
    "        print(flag)\n",
    "        return B[3*flag]*arg**2 + B[1 + 3*flag]*arg + B[2 + 3*flag]"
   ]
  },
  {
   "cell_type": "code",
   "execution_count": 276,
   "metadata": {},
   "outputs": [
    {
     "name": "stdout",
     "output_type": "stream",
     "text": [
      "Для вычисления необходим сплайн из интервала (7.777777777777779, 10.0)\n",
      "8\n",
      "725.7196081474558\n",
      "Для вычисления необходим сплайн из интервала (7.777777777777779, 10.0)\n",
      "8\n",
      "568.571922844851\n",
      "Для вычисления необходим сплайн из интервала (5.555555555555557, 7.777777777777779)\n",
      "7\n",
      "508.2688891784438\n",
      "Для вычисления необходим сплайн из интервала (5.555555555555557, 7.777777777777779)\n",
      "7\n",
      "375.5100862509307\n"
     ]
    }
   ],
   "source": []
  },
  {
   "cell_type": "code",
   "execution_count": null,
   "metadata": {},
   "outputs": [],
   "source": []
  },
  {
   "cell_type": "code",
   "execution_count": null,
   "metadata": {},
   "outputs": [],
   "source": []
  }
 ],
 "metadata": {
  "kernelspec": {
   "display_name": "Python 3 (ipykernel)",
   "language": "python",
   "name": "python3"
  },
  "language_info": {
   "codemirror_mode": {
    "name": "ipython",
    "version": 3
   },
   "file_extension": ".py",
   "mimetype": "text/x-python",
   "name": "python",
   "nbconvert_exporter": "python",
   "pygments_lexer": "ipython3",
   "version": "3.9.6"
  }
 },
 "nbformat": 4,
 "nbformat_minor": 2
}
