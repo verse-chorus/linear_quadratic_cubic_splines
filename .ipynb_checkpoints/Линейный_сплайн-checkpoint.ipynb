{
 "cells": [
  {
   "cell_type": "markdown",
   "id": "4e188de4",
   "metadata": {},
   "source": [
    "## Линейнын сплайны"
   ]
  },
  {
   "cell_type": "markdown",
   "id": "49deda4f",
   "metadata": {},
   "source": [
    "$\\textbf{Линейный сплайн}$ (дефекта 1), интерполирующий $f(x)$ на $[a, b]$: $$c(x) := b_k + a_k (x-x_k),$$ \n",
    "\n",
    "где $x\\in [x_{k-1}, x_{k}] \\big|_{k=1}^n$\n",
    "\n",
    "$\\textbf{Обозначение линейного сплайна дефекта 1}$: $S^n_{1,0}$, где $n, 1, 0$ - кол-во узлов интерполирования, старшая степень и порядок гладкости сплайна соответственно."
   ]
  },
  {
   "cell_type": "code",
   "execution_count": 1,
   "id": "2386ab54",
   "metadata": {},
   "outputs": [],
   "source": [
    "import numpy as np\n",
    "import matplotlib.pyplot as plt \n",
    "np.set_printoptions(suppress=True) # чтобы оч маленькие значения печатались в виде нулей"
   ]
  },
  {
   "cell_type": "code",
   "execution_count": 2,
   "id": "fdd5d6a2",
   "metadata": {},
   "outputs": [],
   "source": [
    "# Исходная функция\n",
    "def fn(x):\n",
    "    return x**2 + 4*np.sin(x) - 2 "
   ]
  },
  {
   "cell_type": "markdown",
   "id": "e7f66abf",
   "metadata": {},
   "source": [
    "## По $m$ равноотстоящим узлам"
   ]
  },
  {
   "cell_type": "code",
   "execution_count": 3,
   "id": "a5341945",
   "metadata": {},
   "outputs": [
    {
     "name": "stdout",
     "output_type": "stream",
     "text": [
      "Введите левую границу a: -10\n",
      "Введите правую границу b: 10\n",
      "Введите кол-во равноотстоящих узлов m (целое число): 9\n"
     ]
    }
   ],
   "source": [
    "a = float(input('Введите левую границу a: '))\n",
    "b = float(input('Введите правую границу b: '))\n",
    "m = int(input('Введите кол-во равноотстоящих узлов m (целое число): '))"
   ]
  },
  {
   "cell_type": "code",
   "execution_count": 5,
   "id": "bef7dec8",
   "metadata": {},
   "outputs": [],
   "source": [
    "x = np.linspace(a, b, m)\n",
    "# n - число линейных сплайнов\n",
    "n = m - 1\n",
    "\n",
    "# AB = C\n",
    "A = np.zeros((2*n, 2*n))\n",
    "C = np.zeros(2*n)\n",
    "\n",
    "for i in range(n):\n",
    "    A[i, i] = x[i]\n",
    "    A[i, n+i] = 1\n",
    "    \n",
    "    # Строки [n, 2n-1]\n",
    "    A[n+i, i] = x[i+1]\n",
    "    A[n+i, n+i] = 1\n",
    "\n",
    "    C[i] = fn(x[i])\n",
    "    C[n+i] = fn(x[i+1])\n",
    "\n",
    "# В последней строке задаем a_1 = 1    \n",
    "A[2*n-1, 0] = 1\n",
    "\n",
    "# Решаем относительно b\n",
    "B = np.linalg.solve(A,C)\n",
    "ai = B[:n]\n",
    "bi = B[n:2*n]"
   ]
  },
  {
   "cell_type": "markdown",
   "id": "13b1bb93",
   "metadata": {},
   "source": [
    "## Изобразим линейный сплайн по $m$ равноотстоящим узлам"
   ]
  },
  {
   "cell_type": "code",
   "execution_count": 6,
   "id": "b4d8860b",
   "metadata": {},
   "outputs": [
    {
     "data": {
      "image/png": "[encoded data removed]",
      "text/plain": [
       "<Figure size 432x288 with 1 Axes>"
      ]
     },
     "metadata": {
      "needs_background": "light"
     },
     "output_type": "display_data"
    }
   ],
   "source": [
    "plt.figure()\n",
    "for k in range(n):\n",
    "    xspline = np.linspace(x[k], x[k+1])\n",
    "    yspline = ai[k]*xspline + bi[k]\n",
    "    plt.plot(xspline, yspline, '-', linewidth=4)\n",
    "plt.xlabel('$x$')\n",
    "plt.ylabel('$y$')\n",
    "plt.title('$S_{1,0}^n$ по равноотстоящим узлам для $f(x)$')\n",
    "plt.show()"
   ]
  },
  {
   "cell_type": "markdown",
   "id": "38a31076",
   "metadata": {},
   "source": [
    "## Функция для вычисления значений с помощью $S_{1,0}^n$"
   ]
  },
  {
   "cell_type": "code",
   "execution_count": 7,
   "id": "34e66255",
   "metadata": {},
   "outputs": [],
   "source": [
    "def linear_spline(arg):\n",
    "    flag = 0\n",
    "    res = 0\n",
    "    # Нахождение нужного участка интервала с помощью цикла\n",
    "    for i in range(n):\n",
    "        if (arg >= x[i]) and (arg <= x[i+1]):\n",
    "            flag = i\n",
    "            res = ai[flag]*arg + bi[flag]\n",
    "    return res"
   ]
  },
  {
   "cell_type": "markdown",
   "id": "717d66b0",
   "metadata": {},
   "source": [
    "## Оптимальные узлы Чебышева $$x_i = 0.5 \\left((b-a)\\cos\\dfrac{(2i+1)\\pi}{2(n+1)} + (b+a)\\right),\\; i\\in \\overline{0,n}$$"
   ]
  },
  {
   "cell_type": "code",
   "execution_count": 12,
   "id": "add43133",
   "metadata": {},
   "outputs": [],
   "source": [
    "# оптимальные узлы Чебышева\n",
    "chebish = []\n",
    "for i in range(0, m):\n",
    "    chebish.append(0.5 * ((b-a)*np.cos(((2*i+1)*np.pi)/(2*(m+1))) + (b+a)))"
   ]
  },
  {
   "cell_type": "code",
   "execution_count": 15,
   "id": "d0bc2152",
   "metadata": {},
   "outputs": [],
   "source": [
    "# n - число линейных сплайнов\n",
    "n = m - 1\n",
    "\n",
    "# AB = C\n",
    "A_opt = np.zeros((2*n, 2*n))\n",
    "C_opt = np.zeros(2*n)\n",
    "\n",
    "for i in range(n):\n",
    "    A_opt[i, i] = chebish[i]\n",
    "    A_opt[i, n+i] = 1\n",
    "    \n",
    "    # Строки [n, 2n-1]\n",
    "    A_opt[n+i, i] = chebish[i+1]\n",
    "    A_opt[n+i, n+i] = 1\n",
    "\n",
    "    C_opt[i] = fn(chebish[i])\n",
    "    C_opt[n+i] = fn(chebish[i+1])\n",
    "\n",
    "# В последней строке задаем a_1 = 1    \n",
    "A_opt[2*n-1, 0] = 1\n",
    "\n",
    "# Решаем относительно b\n",
    "B_opt = np.linalg.solve(A_opt, C_opt)\n",
    "ai_opt = B_opt[:n]\n",
    "bi_opt = B_opt[n:2*n]"
   ]
  },
  {
   "cell_type": "markdown",
   "id": "6f50b7a2",
   "metadata": {},
   "source": [
    "## Изобразим линейный сплайн по $m$ узлам Чебышева"
   ]
  },
  {
   "cell_type": "code",
   "execution_count": 16,
   "id": "b2d05b52",
   "metadata": {},
   "outputs": [
    {
     "data": {
      "image/png": "[encoded data removed]",
      "text/plain": [
       "<Figure size 432x288 with 1 Axes>"
      ]
     },
     "metadata": {
      "needs_background": "light"
     },
     "output_type": "display_data"
    }
   ],
   "source": [
    "plt.figure()\n",
    "for k in range(n):\n",
    "    xspline_opt = np.linspace(chebish[k], chebish[k+1])\n",
    "    yspline_opt = ai_opt[k]*xspline_opt + bi_opt[k]\n",
    "    plt.plot(xspline_opt, yspline_opt, '-', linewidth=4)\n",
    "plt.xlabel('$x$')\n",
    "plt.ylabel('$y$')\n",
    "plt.title('$S_{1,0}^n$ по узлам Чебышева для $f(x)$')\n",
    "plt.show()"
   ]
  },
  {
   "cell_type": "markdown",
   "id": "b5542600",
   "metadata": {},
   "source": [
    "## Функция для вычисления значений с помощью $S_{1,0}^{n_{opt}}$"
   ]
  },
  {
   "cell_type": "code",
   "execution_count": 17,
   "id": "905bf762",
   "metadata": {},
   "outputs": [],
   "source": [
    "def optimal_linear_spline(arg):\n",
    "    flag = 0\n",
    "    res = 0\n",
    "    # Нахождение нужного участка интервала с помощью цикла\n",
    "    for i in range(n):\n",
    "        if (arg <= chebish[i]) and (arg >= chebish[i+1]):\n",
    "            flag = i\n",
    "            res = ai_opt[flag]*arg + bi_opt[flag]\n",
    "    return res"
   ]
  },
  {
   "cell_type": "markdown",
   "id": "4e5bb393",
   "metadata": {},
   "source": [
    "## Найдем максимальные отклонения $RS_{1,0}^n, RS_{1,0}^{n_{opt}}$"
   ]
  },
  {
   "cell_type": "code",
   "execution_count": 19,
   "id": "bbf8f484",
   "metadata": {},
   "outputs": [
    {
     "name": "stdout",
     "output_type": "stream",
     "text": [
      "Введите количество k точек разбиения интервала интерполирования, в которых определяются отклонения: 10\n",
      "Введите максимальное количество max_nodes узлов: 6\n",
      "Таблица 1:\n",
      "-----------------------------------------------------------------------------------------------------------\n",
      "| кол-во узлов, n | кол-во точек разбиения, k   | max RSn_mp \t\t | max RSn_opt_mp \t\t|\n",
      "-----------------------------------------------------------------------------------------------------------\n",
      "|\t 3 \t|\t\t 10 \t  | 95.82391555644251 \t| 95.82391555644251 \t\t |\n",
      "-----------------------------------------------------------------------------------------------------------\n",
      "|\t 4 \t|\t\t 10 \t  | 102.5450252219789 \t| 95.82391555644251 \t\t |\n",
      "-----------------------------------------------------------------------------------------------------------\n",
      "|\t 5 \t|\t\t 10 \t  | 95.82391555644251 \t| 95.82391555644251 \t\t |\n",
      "-----------------------------------------------------------------------------------------------------------\n",
      "|\t 6 \t|\t\t 10 \t  | 95.82391555644251 \t| 95.82391555644251 \t\t |\n",
      "-----------------------------------------------------------------------------------------------------------\n"
     ]
    }
   ],
   "source": [
    "k = int(input('Введите количество k точек разбиения интервала интерполирования, в которых определяются отклонения: '))\n",
    "max_nodes = int(input('Введите максимальное количество max_nodes узлов: '))\n",
    "# mds = maximum_difference_segment\n",
    "mds = np.linspace(a, b, k)\n",
    "\n",
    "func_mds = []\n",
    "spline_mds = []\n",
    "optimal_spline_mds = []\n",
    "RSn_mp = []\n",
    "RSn_opt_mp = []\n",
    "\n",
    "# значения точной функции в точках x0, x1, ..., xm; m >> n\n",
    "for i in mds:\n",
    "    func_mds.append(fn(i))\n",
    "\n",
    "print('Таблица 1:')\n",
    "print('-----------------------------------------------------------------------------------------------------------')\n",
    "print('| кол-во узлов, n | кол-во точек разбиения, k   | max RSn_mp \\t\\t | max RSn_opt_mp \\t\\t|' )\n",
    "print('-----------------------------------------------------------------------------------------------------------')\n",
    "\n",
    "for pp in range(3, max_nodes + 1):\n",
    "    #---------------------------------------------------------------------------\n",
    "    # SPLINE, создаем сплайны по равноотстоящим узлам\n",
    "    #---------------------------------------------------------------------------\n",
    "    # n - число линейных сплайнов\n",
    "    n = pp - 1\n",
    "    xx = np.linspace(a, b, pp)\n",
    "    \n",
    "    A = np.zeros((2*n, 2*n))\n",
    "    C = np.zeros(2*n)\n",
    "\n",
    "    for i in range(n):\n",
    "        A[i, i] = xx[i]\n",
    "        A[i, n+i] = 1\n",
    "\n",
    "        # Строки [n, 2n-1]\n",
    "        A[n+i, i] = xx[i+1]\n",
    "        A[n+i, n+i] = 1\n",
    "\n",
    "        C[i] = fn(xx[i])\n",
    "        C[n+i] = fn(xx[i+1])\n",
    "\n",
    "    # В последней строке задаем a_1 = 1    \n",
    "    A[2*n-1, 0] = 1\n",
    "\n",
    "    # Решаем относительно b\n",
    "    B = np.linalg.solve(A,C)\n",
    "    ai = B[:n]\n",
    "    bi = B[n:2*n]\n",
    "    \n",
    "    #---------------------------------------------------------------------------\n",
    "    # SPLINE_optimal, создаем сплайны по узлам Чебышева\n",
    "    #---------------------------------------------------------------------------\n",
    "\n",
    "    chebish = []\n",
    "    for i in range(0, pp):\n",
    "        chebish.append(0.5 * ((b-a)*np.cos(((2*i+1)*np.pi)/(2*(pp+1))) + (b+a)))\n",
    "    \n",
    "    A_opt = np.zeros((2*n, 2*n))\n",
    "    C_opt = np.zeros(2*n)\n",
    "\n",
    "    for i in range(n):\n",
    "        A_opt[i, i] = chebish[i]\n",
    "        A_opt[i, n+i] = 1\n",
    "\n",
    "        # Строки [n, 2n-1]\n",
    "        A_opt[n+i, i] = chebish[i+1]\n",
    "        A_opt[n+i, n+i] = 1\n",
    "\n",
    "        C_opt[i] = fn(chebish[i])\n",
    "        C_opt[n+i] = fn(chebish[i+1])\n",
    "\n",
    "    # В последней строке задаем a_1 = 1    \n",
    "    A_opt[2*n-1, 0] = 1\n",
    "\n",
    "    # Решаем относительно b\n",
    "    B_opt = np.linalg.solve(A_opt, C_opt)\n",
    "    ai_opt = B_opt[:n]\n",
    "    bi_opt = B_opt[n:2*n]\n",
    "\n",
    "    #---------------------------------------------------------------------------\n",
    "    # Ищем отклонения     \n",
    "    #---------------------------------------------------------------------------\n",
    "\n",
    "    for p in mds:\n",
    "        # значения линейного сплайна S_{1,0}^n в точках x0, x1, ..., xk; k >> n   \n",
    "        spline_mds.append(linear_spline(p))\n",
    "        # значения линейного сплайна S_{1,0}^{n_opt} в точках x0, x1, ..., xk; k >> n        \n",
    "        optimal_spline_mds.append(optimal_linear_spline(p))\n",
    "            \n",
    "    # отклонения\n",
    "    for j in range(1, len(mds)):\n",
    "        RSn_mp.append(np.absolute(func_mds[j] - spline_mds[j]))\n",
    "        RSn_opt_mp.append(np.absolute(func_mds[j] - optimal_spline_mds[j]))\n",
    "    RSn_mp_max = max(RSn_mp)\n",
    "    RSn_opt_mp_max = max(RSn_opt_mp)\n",
    "    \n",
    "    print('|\\t', pp, '\\t|\\t\\t', k, '\\t  |', RSn_mp_max, '\\t|', RSn_opt_mp_max, '\\t\\t |')\n",
    "    print('-----------------------------------------------------------------------------------------------------------')\n",
    "    RSn_mp = []\n",
    "    RSn_opt_mp = []\n",
    "    RSn_mp_max, RSn_opt_mp_max = 0, 0\n",
    "    spline_mds = []\n",
    "    optimal_spline_mds = []\n",
    "    ai_opt, bi_opt, ai, bi = [], [], [], []"
   ]
  },
  {
   "cell_type": "code",
   "execution_count": null,
   "id": "19ff6579",
   "metadata": {},
   "outputs": [],
   "source": []
  }
 ],
 "metadata": {
  "kernelspec": {
   "display_name": "Python 3 (ipykernel)",
   "language": "python",
   "name": "python3"
  },
  "language_info": {
   "codemirror_mode": {
    "name": "ipython",
    "version": 3
   },
   "file_extension": ".py",
   "mimetype": "text/x-python",
   "name": "python",
   "nbconvert_exporter": "python",
   "pygments_lexer": "ipython3",
   "version": "3.9.6"
  }
 },
 "nbformat": 4,
 "nbformat_minor": 5
}
