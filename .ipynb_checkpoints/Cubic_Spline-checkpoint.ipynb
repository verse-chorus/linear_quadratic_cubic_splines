{
 "cells": [
  {
   "cell_type": "markdown",
   "metadata": {},
   "source": [
    "# Кубические сплайны"
   ]
  },
  {
   "cell_type": "markdown",
   "metadata": {},
   "source": [
    "$\\textbf{Кубический сплайн}$ (дефекта 1), интерполирующий $f(x)$ на $[a, b]$: $$c(x) := a_k + b_k (x-x_k) + c_k (x-x_k)^2 + d_k (x-x_k)^3,$$ где $x\\in [x_{k-1}, x_{k}] \\big|_{k=1}^n$ \n",
    "\n",
    "$\\textbf{Обозначение кубического сплайна}$: $S^N_{3,2}$, где $N, 3, 2$ - кол-во узлов интерполирования, старшая степень и порядок гладкости сплайна соответственно.\n",
    "$\\textbf{Дефект сплайна}$ - разность между старшей степерью и порядком гладкости сплайна. В нашей задаче дефект равен $1$\n",
    "\n",
    "$\\textbf{Краевые условия}$: \n",
    "$$ \\textbf{1)}\\; c(x_k) = f(x_k), \\;\\; \\textbf{2)}\\; c(x) \\in C^2([a,b]), \\;\\; \\textbf{3)}\\; c''(a) = c''(b)=0$$\n",
    "При выполнении условия $\\textbf{3)}$ сплайн называется $\\textbf{естественным}$."
   ]
  },
  {
   "cell_type": "markdown",
   "metadata": {},
   "source": [
    "$$\\textbf{1)}\\;y_i := c_{i-1}(x_i)=c_{i}(x_i),\\; \\textbf{2)}\\; y'_i :=c'_{i-1}(x_i)=c'_{i}(x_i),\\; \\textbf{3)}\\; y''_i :=c''_{i-1}(x_i)=c''_{i}(x_i), \\; i=\\overline{2,n-1}$$\n",
    "$c_i(x)$ - кубический полином $\\Rightarrow c''_i(x)$ - $\\textbf{линейная функция}$:\n",
    "\n",
    "$c''_i(x) = c''_i(x_i)+\\dfrac{x-x_i}{h_i} \\left( c''_i(x_{i+1}) - c''_i(x_I)\\right), \\; h_i := x_{i+1}-x_i$\n",
    "\n",
    "$$c'_i(x) = c'_i(x_i) + \\int_{x_i}^x c''_i(t) dt = c'_i(x_i) + c''_i(x_i)(x-x_i) + \\dfrac{c''_i(x_{i+1})-c''_i(x_i)}{2h_i}(x-x_i)^2 $$\n",
    "$$c_i(x) = c_i(x_i) + \\int_{x_i}^x c'_i(t) dt = c_i(x_i) + c'_i(x_i)(x-x_i) + c''_i(x_i)\\dfrac{(x-x_i)^2}{2} + \\dfrac{c''_i(x_{i+1})-c''_i(x_i)}{6h_i}(x-x_i)^3$$"
   ]
  },
  {
   "cell_type": "code",
   "execution_count": 11,
   "metadata": {},
   "outputs": [],
   "source": [
    "import numpy as np\n",
    "import matplotlib.pyplot as plt \n",
    "np.set_printoptions(suppress=True)"
   ]
  },
  {
   "cell_type": "code",
   "execution_count": 18,
   "metadata": {},
   "outputs": [],
   "source": [
    "# Матрица в виде AB = C  \n",
    "# Исходная функция\n",
    "def fn(x):\n",
    "    return x**2 + 4*np.sin(x) - 2\n",
    "\n",
    "x = np.linspace(-10, 10)\n",
    "N = len(x)\n",
    "\n",
    "# n - число кубических сплайнов\n",
    "# n сплайнов, у каждого 3 неизвестных, итого 3*n неизвестных\n",
    "# Значит, нужно решить 3*n уравнений\n",
    "n = N - 1\n",
    "\n",
    "A = np.zeros((4*n, 4*n))*1.0\n",
    "C = np.zeros(4*n)*1.0\n",
    "\n",
    "for i in range(n):\n",
    "    A[i,i] = x[i]**3\n",
    "    A[i,n+i] = x[i]**2\n",
    "    A[i,2*n+i] = x[i]\n",
    "    A[i,3*n+i] = 1\n",
    "    \n",
    "    # Строки [n, 2n-1]\n",
    "    A[n+i, i] = x[i+1]**3\n",
    "    A[n+i, n+i] = x[i+1]**2\n",
    "    A[n+i, 2*n+i] = x[i+1]\n",
    "    A[n+i, 3*n+i] = 1\n",
    "\n",
    "    \n",
    "    C[i] = fn(x[i])\n",
    "    C[n+i] = fn(x[i+1])\n",
    "\n",
    "# Строки [2n, 3n-1]\n",
    "for j in range(n-1):\n",
    "    row = 2*n+j\n",
    "    columns = [j, j+1, n+j, n+j+1, 2*n+j, 2*n+j+1]\n",
    "    #start at j+1 since derivatives are equal at the interior points\n",
    "    values = 3*x[j+1]**2, -3*x[j+1]**2, 2*x[j+1], -2*x[j+1], 1, -1\n",
    "    A[row, [columns]] = values\n",
    "   \n",
    "    # Значения функции для рядов C из промежутка [2n: 3n-1] равны нулю, поскольку мы приравниваем произвдоные\n",
    "\n",
    "    # Строки [3n-1, 4n-2]\n",
    "for q in range(n-1):\n",
    "    row = 3*n-1 + q\n",
    "    columns = [q, q+1, n+q, n+q+1]\n",
    "    values = 6*x[q+1], -6*x[q+1], 2, -2\n",
    "    A[row, [columns]] = values\n",
    "    # Значения функции для рядов C из промежутка [3n-1: 4n-2] равны нулю, поскольку мы приравниваем произвдоные\n",
    "    \n",
    "# Задаем вторые производные на граничны точках (x0, xn) равными нулю, \n",
    "# чтобы получить два дополнительных уравнения - естественный сплайн\n",
    "A[4*n-2, [0,n]] = 6*x[0], 2\n",
    "A[4*n-1, [n-1,2*n-1]] =  6*x[n], 2 #6*x[n-1], 2\n",
    "\n",
    "# Решаем относительно b\n",
    "B = np.linalg.solve(A,C)\n",
    "\n",
    "ai = B[:n]\n",
    "bi = B[n:2*n]\n",
    "ci = B[2*n:3*n]\n",
    "di = B[3*n:]"
   ]
  },
  {
   "cell_type": "markdown",
   "metadata": {},
   "source": [
    "## Визуализируем"
   ]
  },
  {
   "cell_type": "code",
   "execution_count": 19,
   "metadata": {},
   "outputs": [
    {
     "data": {
      "image/png": "[encoded data removed]",
      "text/plain": [
       "<Figure size 432x288 with 1 Axes>"
      ]
     },
     "metadata": {
      "needs_background": "light"
     },
     "output_type": "display_data"
    }
   ],
   "source": [
    "plt.figure()\n",
    "\n",
    "for k in range(n):\n",
    "    xspline = np.linspace(x[k], x[k+1])\n",
    "    yspline = ai[k]*xspline**3 + bi[k]*xspline**2 + ci[k]*xspline + di[k]    \n",
    "    plt.plot(xspline, yspline, 'b-')\n",
    "\n",
    "plt.xlabel('x')\n",
    "plt.ylabel('y')\n",
    "plt.title('Кубический сплайн для $f(x) = x^2 + 4 \\sin(x) - 2$')\n",
    "\n",
    "plt.show()"
   ]
  },
  {
   "cell_type": "code",
   "execution_count": 20,
   "metadata": {},
   "outputs": [],
   "source": [
    "# result = 0\n",
    "# for t in range(n):\n",
    "#     upper_lim = (ai[t]*(x[t+1]**4)/4) + (bi[t]*(x[t+1]**3)/3) + ci[t]*(x[t+1]**2)/2 + di[t]*x[t+1]\n",
    "#     lower_lim = (ai[t]*(x[t]**4)/4) + (bi[t]*(x[t]**3)/3) + ci[t]*(x[t]**2)/2 + di[t]*x[t]\n",
    "    \n",
    "#     result += ((upper_lim - lower_lim))\n",
    "    \n",
    "# print(result)"
   ]
  },
  {
   "cell_type": "markdown",
   "metadata": {},
   "source": [
    "## not-a-knot spline (тут еще третья производная примешивается!!)"
   ]
  },
  {
   "cell_type": "markdown",
   "metadata": {},
   "source": [
    "$$\\displaystyle q'''_{1}(x_{1})=q'''_{2}(x_{1})\\Rightarrow {\\frac {1}{\\Delta x_{1}^{2}}}k_{0}+\\left({\\frac {1}{\\Delta x_{1}^{2}}}-{\\frac {1}{\\Delta x_{2}^{2}}}\\right)k_{1}-{\\frac {1}{\\Delta x_{2}^{2}}}k_{2}=2\\left({\\frac {\\Delta y_{41}}{\\Delta x_{1}^{3}}}-{\\frac {\\Delta y_{2}}{\\Delta x_{2}^{3}}}\\right),$$\n",
    "$$\\displaystyle q'''_{n-1}(x_{n-1})=q'''_{n}(x_{n-1})\\Rightarrow {\\frac {1}{\\Delta x_{n-1}^{2}}}k_{n-2}+\\left({\\frac {1}{\\Delta x_{n-1}^{2}}}-{\\frac {1}{\\Delta x_{n}^{2}}}\\right)k_{n-1}-{\\frac {1}{\\Delta x_{n}^{2}}}k_{n}=2\\left({\\frac {\\Delta y_{n-1}}{\\Delta x_{n-1}^{3}}}-{\\frac {\\Delta y_{n}}{\\Delta x_{n}^{3}}}\\right),$$\n",
    "$$\\displaystyle \\Delta x_{i}=x_{i}-x_{i-1},\\ \\Delta y_{i}=y_{i}-y_{i-1}$$"
   ]
  },
  {
   "cell_type": "code",
   "execution_count": 22,
   "metadata": {},
   "outputs": [
    {
     "data": {
      "image/png": "[encoded data removed]",
      "text/plain": [
       "<Figure size 432x288 with 1 Axes>"
      ]
     },
     "metadata": {
      "needs_background": "light"
     },
     "output_type": "display_data"
    },
    {
     "name": "stdout",
     "output_type": "stream",
     "text": [
      "626.6666666666687\n"
     ]
    }
   ],
   "source": [
    "import numpy as np\n",
    "import matplotlib.pyplot as plt \n",
    "np.set_printoptions(suppress=True)\n",
    "\n",
    "\n",
    "def fn(x):\n",
    "    return x**2 + 4*np.sin(x) - 2\n",
    "\n",
    "x = np.linspace(-10, 10)\n",
    "N = len(x)\n",
    "\n",
    "# define n as the number of cubic splines\n",
    "# There are n splines, each having 3 unknowns:total 3n unknowns\n",
    "# Therefore, we need 3n equations in order to solve for\n",
    "n = N-1 ##n = 32\n",
    "\n",
    "A = np.zeros((4*n, 4*n))*1.0\n",
    "C = np.zeros(4*n)*1.0\n",
    "\n",
    "for i in range(n):\n",
    "    A[i,i] = x[i]**3\n",
    "    A[i,n+i] = x[i]**2\n",
    "    A[i,2*n+i] = x[i]\n",
    "    A[i,3*n+i] = 1\n",
    "    \n",
    "    #Rows n to 2n-1\n",
    "    A[n+i, i] = x[i+1]**3\n",
    "    A[n+i, n+i] = x[i+1]**2\n",
    "    A[n+i, 2*n+i] = x[i+1]\n",
    "    A[n+i, 3*n+i] = 1\n",
    "\n",
    "    \n",
    "    C[i] = fn(x[i])\n",
    "    C[n+i] = fn(x[i+1])\n",
    "\n",
    "\n",
    "    ###Rows 2n: 3n-1\n",
    "for j in range(n-1):\n",
    "    row = 2*n+j\n",
    "    columns = [j, j+1, n+j, n+j+1, 2*n+j, 2*n+j+1]\n",
    "    ###start at j+1 since derivatives are equal at the interior points\n",
    "    values = 3*x[j+1]**2, -3*x[j+1]**2, 2*x[j+1], -2*x[j+1], 1, -1\n",
    "    A[row, [columns]] = values\n",
    "   \n",
    "    ###Function values for Rows C [2n: 3n-1] is zero since we equate derivatives and take everything to the LKS\n",
    "\n",
    "\n",
    "    ###Rows 3n-1: 4n-2\n",
    "for q in range(n-1):\n",
    "    row = 3*n-1 + q\n",
    "    columns = [q, q+1, n+q, n+q+1]\n",
    "    ###start at j+1 since derivatives are equal at the interior points\n",
    "    values = 6*x[q+1], -6*x[q+1], 2, -2\n",
    "    A[row, [columns]] = values\n",
    "        ###Function values for Rows C [3n-1:4n-2] is zero since we equate derivatives and take everything to the LKS\n",
    "    \n",
    "    \n",
    "\n",
    "# Use Not-a-Knot spline. 3rd derivative Continuity exists at points x1 and Xn-1\n",
    "# This yields 6a_0 - 6a_1 = 0 and 6a_n-1 - 6a_n = 0\n",
    "A[4*n-2, [0,1]] = 6, -6\n",
    "A[4*n-1, [n-2, n-1]] = 6, -6\n",
    "\n",
    "    \n",
    " #C[4n-2] = 0 and C[4n-1] #ALREADY ZERO # C is vector on RHS\n",
    "\n",
    "B = np.linalg.solve(A,C)\n",
    "\n",
    "ai = B[:n]\n",
    "bi = B[n:2*n]\n",
    "ci = B[2*n:3*n]\n",
    "di = B[3*n:]\n",
    "\n",
    "\n",
    "plt.figure()\n",
    "\n",
    "for k in range(n):\n",
    "    xspline = np.linspace(x[k], x[k+1], 100)\n",
    "    yspline = ai[k]*xspline**3 + bi[k]*xspline**2 + ci[k]*xspline + di[k]\n",
    "    \n",
    "    plt.plot(xspline, yspline, 'r-') #\n",
    "\n",
    "plt.xlabel('x')\n",
    "plt.ylabel('y')\n",
    "plt.title('Cubic Splines')\n",
    "\n",
    "plt.show()\n",
    "\n",
    "\n",
    "##############5b\n",
    "        \n",
    "####5b\n",
    "result = 0\n",
    "\n",
    "for t in range(n):\n",
    "    upper_lim = (ai[t]*(x[t+1]**4)/4) + (bi[t]*(x[t+1]**3)/3) + ci[t]*(x[t+1]**2)/2 + di[t]*x[t+1]\n",
    "    lower_lim = (ai[t]*(x[t]**4)/4) + (bi[t]*(x[t]**3)/3) + ci[t]*(x[t]**2)/2 + di[t]*x[t]\n",
    "    \n",
    "    result += ((upper_lim - lower_lim))\n",
    "    \n",
    "    \n",
    "print(result)\n"
   ]
  },
  {
   "cell_type": "markdown",
   "metadata": {},
   "source": [
    "## Прихерачим их на один график"
   ]
  },
  {
   "cell_type": "code",
   "execution_count": 25,
   "metadata": {},
   "outputs": [
    {
     "data": {
      "image/png": "[encoded data removed]",
      "text/plain": [
       "<Figure size 720x504 with 1 Axes>"
      ]
     },
     "metadata": {
      "needs_background": "light"
     },
     "output_type": "display_data"
    },
    {
     "name": "stdout",
     "output_type": "stream",
     "text": [
      "37.77741617221727\n"
     ]
    }
   ],
   "source": [
    "import numpy as np\n",
    "import matplotlib.pyplot as plt \n",
    "np.set_printoptions(suppress=True)\n",
    "\n",
    "def fn(x):\n",
    "    return x**2 + 4*np.sin(x) - 2\n",
    "\n",
    "\n",
    "\n",
    "x = np.linspace(-10, 10)\n",
    "N = len(x)\n",
    "\n",
    "# define n as the number of cubic splines\n",
    "# There are n splines, each having 3 unknowns: total 3n unknowns\n",
    "# Therefore, we need 3n equations in order to solve for\n",
    "n = N-1\n",
    "\n",
    "A = np.zeros((4*n, 4*n))*1.0\n",
    "C = np.zeros(4*n)*1.0\n",
    "\n",
    "for i in range(n):\n",
    "    A[i,i] = x[i]**3\n",
    "    A[i,n+i] = x[i]**2\n",
    "    A[i,2*n+i] = x[i]\n",
    "    A[i,3*n+i] = 1\n",
    "    \n",
    "    #Rows n to 2n-1\n",
    "    A[n+i, i] = x[i+1]**3\n",
    "    A[n+i, n+i] = x[i+1]**2\n",
    "    A[n+i, 2*n+i] = x[i+1]\n",
    "    A[n+i, 3*n+i] = 1\n",
    "\n",
    "    \n",
    "    C[i] = fn(x[i])\n",
    "    C[n+i] = fn(x[i+1])\n",
    "\n",
    "\n",
    "    ###Rows 2n: 3n-1\n",
    "for j in range(n-1):\n",
    "    row = 2*n+j\n",
    "    columns = [j, j+1, n+j, n+j+1, 2*n+j, 2*n+j+1]\n",
    "    ###start at j+1 since derivatives are equal at the interior points\n",
    "    values = 3*x[j+1]**2, -3*x[j+1]**2, 2*x[j+1], -2*x[j+1], 1, -1\n",
    "    A[row, [columns]] = values\n",
    "   \n",
    "    ###Function values for Rows C [2n: 3n-1] is zero since we equate derivatives and take everything to the LKS\n",
    "\n",
    "\n",
    "    ###Rows 3n-1: 4n-2\n",
    "for q in range(n-1):\n",
    "    row = 3*n-1 + q\n",
    "    columns = [q, q+1, n+q, n+q+1]\n",
    "    ###start at j+1 since derivatives are equal at the interior points\n",
    "    values = 6*x[q+1], -6*x[q+1], 2, -2\n",
    "    A[row, [columns]] = values\n",
    "        ###Function values for Rows C [3n-1:4n-2] is zero since we equate derivatives and take everything to the LKS\n",
    "    \n",
    "Z = np.copy(A)    \n",
    "\n",
    "\n",
    "###Use natural spline. Set 2nd derivative at endpoints(x0, xn) to zero to get 2 additional eqns...\n",
    "A[4*n-2, [0,n]] = 6*x[0], 2\n",
    "A[4*n-1, [n-1,2*n-1]] = 6*x[n], 2\n",
    "\n",
    "    \n",
    "#C[4n-2] = 0 and C[4n-1] #ALREADY ZERO # C is vector on RHS\n",
    "\n",
    "B = np.linalg.solve(A,C)\n",
    "\n",
    "ai = B[:n]\n",
    "bi = B[n:2*n]\n",
    "ci = B[2*n:3*n]\n",
    "di = B[3*n:]\n",
    "\n",
    "############################################################################\n",
    "\n",
    "###Adjust two last rows of Matriz Z to reflect the c\n",
    "###Use Not-a-Knot spline. 3rd derivative Continuity exists at points x1 and Xn-1\n",
    "#This yields 6a_0 - 6a_1 = 0 and 6a_n-1 - 6a_n = 0\n",
    "Z[4*n-2, [0,1]] = 6, -6\n",
    "Z[4*n-1, [n-2, n-1]] = 6, -6\n",
    "\n",
    "\n",
    "###Solve for vector b_Z\n",
    "B_z = np.linalg.solve(Z,C)\n",
    "#B_ = np.dot(np.linalg.inv(Z), C)\n",
    "\n",
    "a_z = B_z[:n]\n",
    "b_z = B_z[n:2*n]\n",
    "c_z = B_z[2*n:3*n]\n",
    "d_z = B_z[3*n:]\n",
    "\n",
    "\n",
    "############################################################################\n",
    "plt.figure(figsize = (10,7))\n",
    "\n",
    "for k in range(n):\n",
    "    xspline = np.linspace(x[k], x[k+1], 10)\n",
    "    yspline = ai[k]*xspline**3 + bi[k]*xspline**2 + ci[k]*xspline + di[k]\n",
    "    yspline_Z = a_z[k]*xspline**3 + b_z[k]*xspline**2 + c_z[k]*xspline + d_z[k]\n",
    "    \n",
    "    plt.plot(xspline, yspline, 'b.', markersize =10)  ### NATURAL SPLINE METHOD\n",
    "    plt.plot(xspline, yspline_Z, 'r.', markersize =8)  ### CUBIC SPLINE METHOD\n",
    "\n",
    "plt.xlabel('x')\n",
    "plt.ylabel('y')\n",
    "plt.title('Cubic Splines')\n",
    "\n",
    "plt.show()\n",
    "\n",
    "result = 0\n",
    "\n",
    "for t in range(n):\n",
    "    upper_lim = (ai[t]*(x[t+1]**4)/4) + (bi[t]*(x[t+1]**3)/3) + ci[t]*(x[t+1]**2)/2 + di[t]*x[t+1]\n",
    "    lower_lim = (ai[t]*(x[t]**4)/4) + (bi[t]*(x[t]**3)/3) + ci[t]*(x[t]**2)/2 + di[t]*x[t]\n",
    "    \n",
    "    result = ((upper_lim - lower_lim))\n",
    "    \n",
    "    \n",
    "print(result)"
   ]
  },
  {
   "cell_type": "code",
   "execution_count": null,
   "metadata": {},
   "outputs": [],
   "source": []
  }
 ],
 "metadata": {
  "kernelspec": {
   "display_name": "Python 3 (ipykernel)",
   "language": "python",
   "name": "python3"
  },
  "language_info": {
   "codemirror_mode": {
    "name": "ipython",
    "version": 3
   },
   "file_extension": ".py",
   "mimetype": "text/x-python",
   "name": "python",
   "nbconvert_exporter": "python",
   "pygments_lexer": "ipython3",
   "version": "3.9.6"
  }
 },
 "nbformat": 4,
 "nbformat_minor": 2
}
