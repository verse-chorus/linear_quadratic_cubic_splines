{
 "cells": [
  {
   "cell_type": "markdown",
   "metadata": {},
   "source": [
    "## Квадратичные сплайны"
   ]
  },
  {
   "cell_type": "markdown",
   "metadata": {},
   "source": [
    "$\\textbf{Квадратичный сплайн}$ (дефекта 1), интерполирующий $f(x)$ на $[a, b]$: $$c(x) := a_k + b_k (x-x_k) + c_k (x-x_k)^2 ,$$ \n",
    "\n",
    "где $x\\in [x_{k-1}, x_{k}] \\big|_{k=1}^n$\n",
    "\n",
    "$\\textbf{Обозначение квадратичного сплайна}$: $S^N_{m,p}$, где $N, m, p$ - кол-во узлов интерполирования, старшая степень и порядок гладкости сплайна соответственно.\n",
    "$\\textbf{Дефект сплайна}$ - разность $m - p$"
   ]
  },
  {
   "cell_type": "code",
   "execution_count": 194,
   "metadata": {},
   "outputs": [],
   "source": [
    "import numpy as np\n",
    "import matplotlib.pyplot as plt \n",
    "np.set_printoptions(suppress=True) # чтобы оч маленькие значения печатались в виде нулей"
   ]
  },
  {
   "cell_type": "code",
   "execution_count": 114,
   "metadata": {},
   "outputs": [],
   "source": [
    "# Исходная функция\n",
    "def fn(x):\n",
    "    return x**2 + 4*np.sin(x) - 2 "
   ]
  },
  {
   "cell_type": "markdown",
   "metadata": {},
   "source": [
    "## По $m$ равноотстоящим узлам"
   ]
  },
  {
   "cell_type": "code",
   "execution_count": 225,
   "metadata": {},
   "outputs": [
    {
     "name": "stdout",
     "output_type": "stream",
     "text": [
      "Введите левую границу a: -10\n",
      "Введите правую границу b: 10\n",
      "Введите кол-во равноотстоящих узлов m (целое число): 20\n"
     ]
    }
   ],
   "source": [
    "a = float(input('Введите левую границу a: '))\n",
    "b = float(input('Введите правую границу b: '))\n",
    "m = int(input('Введите кол-во равноотстоящих узлов m (целое число): '))"
   ]
  },
  {
   "cell_type": "code",
   "execution_count": 226,
   "metadata": {},
   "outputs": [],
   "source": [
    "x = np.linspace(a, b, m)\n",
    "# n - число квадратичных сплайнов, у каждого 3 неизвестных - значит, у нас 3*n неизвестных\n",
    "# Надо решить 3*n уравнения\n",
    "n = m - 1\n",
    "\n",
    "# AB = C\n",
    "A = np.zeros((3*n, 3*n))\n",
    "C = np.zeros(3*n)\n",
    "\n",
    "for i in range(n):\n",
    "    A[i, i] = x[i]**2\n",
    "    A[i, n+i] = x[i]\n",
    "    A[i, 2*n+i] = 1\n",
    "\n",
    "    # Строки [n, 2n-1]\n",
    "    A[n+i, i] = x[i+1]**2\n",
    "    A[n+i, n+i] = x[i+1]\n",
    "    A[n+i, 2*n+i] = 1\n",
    "\n",
    "    C[i] = fn(x[i])\n",
    "    C[n+i] = fn(x[i+1])\n",
    "\n",
    "# Строки [2n, 3n-1]\n",
    "for j in range(n-1): \n",
    "    A[2*n+j, [j, j+1, n+j, n+j+1]] = 2*x[j+1], -2*x[j+1], 1, -1\n",
    "\n",
    "# В последней строке задаем a_1 = 1    \n",
    "A[3*n-1, 0] = 1\n",
    "\n",
    "# Решаем относительно b\n",
    "B = np.linalg.solve(A,C)\n",
    "ai = B[:n]\n",
    "bi = B[n:2*n]\n",
    "ci = B[2*n:]"
   ]
  },
  {
   "cell_type": "markdown",
   "metadata": {},
   "source": [
    "## Отрисуем квадратичный сплайн по $m$ равноотстоящим узлам"
   ]
  },
  {
   "cell_type": "code",
   "execution_count": 227,
   "metadata": {},
   "outputs": [
    {
     "data": {
      "image/png": "[encoded data removed]",
      "text/plain": [
       "<Figure size 432x288 with 1 Axes>"
      ]
     },
     "metadata": {
      "needs_background": "light"
     },
     "output_type": "display_data"
    }
   ],
   "source": [
    "plt.figure()\n",
    "for k in range(n):\n",
    "    xspline = np.linspace(x[k], x[k+1])\n",
    "    yspline = ai[k]*xspline**2 + bi[k]*xspline + ci[k]\n",
    "    plt.plot(xspline, yspline, '-', linewidth=4)\n",
    "plt.xlabel('$x$')\n",
    "plt.ylabel('$y$')\n",
    "plt.title('Квадратичный сплайн по равноотстоящим узлам для $x^2 - 4 \\sin(x) - 2$')\n",
    "plt.show()"
   ]
  },
  {
   "cell_type": "markdown",
   "metadata": {},
   "source": [
    "## Функция для вычисления значений с помощью $S_{3,2}^n$"
   ]
  },
  {
   "cell_type": "code",
   "execution_count": 228,
   "metadata": {},
   "outputs": [],
   "source": [
    "def quadratic_spline(arg):\n",
    "    flag = 0\n",
    "    res = 0\n",
    "    # Нахождение нужного участка интервала с помощью цикла\n",
    "    for i in range(n):\n",
    "        if (arg >= x[i]) and (arg <= x[i+1]):\n",
    "            flag = i\n",
    "            res = ai[flag]*arg**2 + bi[flag]*arg + ci[flag]\n",
    "    return res"
   ]
  },
  {
   "cell_type": "code",
   "execution_count": 231,
   "metadata": {},
   "outputs": [
    {
     "name": "stdout",
     "output_type": "stream",
     "text": [
      "-10.0\n",
      "100.17608444355749\n",
      "-8.947368421052632\n",
      "76.21748204760087\n",
      "-7.894736842105264\n",
      "56.33019132028626\n",
      "-6.842105263157895\n",
      "42.693321170259864\n",
      "-5.7894736842105265\n",
      "33.41359564358537\n",
      "-4.736842105263158\n",
      "24.436477279151838\n",
      "-3.6842105263157894\n",
      "13.638925600216183\n",
      "-2.6315789473684212\n",
      "2.9724509207667866\n",
      "-1.578947368421053\n",
      "-3.50679232953275\n",
      "-0.526315789473685\n",
      "-3.732396308164745\n",
      "0.5263157894736832\n",
      "0.2864129286633541\n",
      "1.5789473684210513\n",
      "4.49294191402028\n",
      "2.6315789473684212\n",
      "6.87796459169859\n",
      "3.6842105263157894\n",
      "9.507888804215959\n",
      "4.7368421052631575\n",
      "16.438868981235984\n",
      "5.789473684210526\n",
      "29.622415436747055\n",
      "6.842105263157894\n",
      "46.935487694006014\n",
      "7.894736842105264\n",
      "64.32354829190213\n",
      "8.94736842105263\n",
      "79.89332127649887\n",
      "10.0\n",
      "95.82391555644251\n"
     ]
    },
    {
     "ename": "IndexError",
     "evalue": "index 20 is out of bounds for axis 0 with size 20",
     "output_type": "error",
     "traceback": [
      "\u001b[0;31m---------------------------------------------------------------------------\u001b[0m",
      "\u001b[0;31mIndexError\u001b[0m                                Traceback (most recent call last)",
      "\u001b[0;32m/var/folders/8b/6ssktshx6r1fmq77tl5ypb7c0000gn/T/ipykernel_62823/1519069723.py\u001b[0m in \u001b[0;36m<module>\u001b[0;34m\u001b[0m\n\u001b[1;32m      1\u001b[0m \u001b[0;32mfor\u001b[0m \u001b[0mi\u001b[0m \u001b[0;32min\u001b[0m \u001b[0mrange\u001b[0m\u001b[0;34m(\u001b[0m\u001b[0;36m0\u001b[0m\u001b[0;34m,\u001b[0m \u001b[0;36m30\u001b[0m\u001b[0;34m)\u001b[0m\u001b[0;34m:\u001b[0m\u001b[0;34m\u001b[0m\u001b[0;34m\u001b[0m\u001b[0m\n\u001b[0;32m----> 2\u001b[0;31m     \u001b[0mprint\u001b[0m\u001b[0;34m(\u001b[0m\u001b[0mx\u001b[0m\u001b[0;34m[\u001b[0m\u001b[0mi\u001b[0m\u001b[0;34m]\u001b[0m\u001b[0;34m)\u001b[0m\u001b[0;34m\u001b[0m\u001b[0;34m\u001b[0m\u001b[0m\n\u001b[0m\u001b[1;32m      3\u001b[0m     \u001b[0mprint\u001b[0m\u001b[0;34m(\u001b[0m\u001b[0mquadratic_spline\u001b[0m\u001b[0;34m(\u001b[0m\u001b[0mx\u001b[0m\u001b[0;34m[\u001b[0m\u001b[0mi\u001b[0m\u001b[0;34m]\u001b[0m\u001b[0;34m)\u001b[0m\u001b[0;34m)\u001b[0m\u001b[0;34m\u001b[0m\u001b[0;34m\u001b[0m\u001b[0m\n",
      "\u001b[0;31mIndexError\u001b[0m: index 20 is out of bounds for axis 0 with size 20"
     ]
    }
   ],
   "source": [
    "for i in range(0, 30):\n",
    "    print(x[i])\n",
    "    print(quadratic_spline(x[i]))"
   ]
  },
  {
   "cell_type": "markdown",
   "metadata": {},
   "source": [
    "## Оптимальные узлы Чебышева"
   ]
  },
  {
   "cell_type": "code",
   "execution_count": 186,
   "metadata": {},
   "outputs": [],
   "source": [
    "# оптимальные узлы Чебышева\n",
    "chebish = []\n",
    "for i in range(0, m):\n",
    "    chebish.append(0.5 * ((b-a)*np.cos(((2*i+1)*np.pi)/(2*(m+1))) + (b+a)))"
   ]
  },
  {
   "cell_type": "code",
   "execution_count": 187,
   "metadata": {},
   "outputs": [],
   "source": [
    "# n - число квадратичных сплайнов по узлам Чебышева, у каждого 3 неизвестных - значит, у нас 3*n неизвестных\n",
    "# Надо решить 3*n уравнения\n",
    "n = m - 1\n",
    "\n",
    "# A_opt * B_opt = C_opt\n",
    "A_opt = np.zeros((3*n, 3*n))*1.0\n",
    "C_opt = np.zeros(3*n)*1.0\n",
    "\n",
    "for i in range(n):\n",
    "    A_opt[i, i] = chebish[i]**2\n",
    "    A_opt[i, n+i] = chebish[i]\n",
    "    A_opt[i, 2*n+i] = 1\n",
    "    \n",
    "    # Строки [n, 2n-1]\n",
    "    A_opt[n+i, i] = chebish[i+1]**2\n",
    "    A_opt[n+i, n+i] = chebish[i+1]\n",
    "    A_opt[n+i, 2*n+i] = 1\n",
    "    \n",
    "    C_opt[i] = fn(chebish[i])\n",
    "    C_opt[n+i] = fn(chebish[i+1])\n",
    "    \n",
    "# Строки [2n, 3n-1]\n",
    "for j in range(n-1): \n",
    "    A_opt[2*n+j, [j, j+1, n+j, n+j+1]] = 2*chebish[j+1], -2*chebish[j+1], 1, -1\n",
    "\n",
    "# В последней строке задаем a_1 = 1    \n",
    "A_opt[3*n-1, 0] = 1\n",
    "\n",
    "# Решаем относительно b\n",
    "B_opt = np.linalg.solve(A_opt, C_opt)\n",
    "ai_opt = B_opt[:n]\n",
    "bi_opt = B_opt[n:2*n]\n",
    "ci_opt = B_opt[2*n:]"
   ]
  },
  {
   "cell_type": "markdown",
   "metadata": {},
   "source": [
    "## Отрисуем квадратичный сплайн по $m$ узлам Чебышева"
   ]
  },
  {
   "cell_type": "code",
   "execution_count": 188,
   "metadata": {},
   "outputs": [
    {
     "data": {
      "image/png": "[encoded data removed]",
      "text/plain": [
       "<Figure size 432x288 with 1 Axes>"
      ]
     },
     "metadata": {
      "needs_background": "light"
     },
     "output_type": "display_data"
    }
   ],
   "source": [
    "plt.figure()\n",
    "\n",
    "for k in range(n):\n",
    "    xspline_opt = np.linspace(chebish[k], chebish[k+1])\n",
    "    yspline_opt = ai_opt[k]*xspline_opt**2 + bi_opt[k]*xspline_opt + ci_opt[k]\n",
    "    plt.plot(xspline_opt, yspline_opt, '-', linewidth=4)\n",
    "plt.xlabel('$x$')\n",
    "plt.ylabel('$y$')\n",
    "plt.title('Квадратичный сплайн по узлам Чебышева для $x^2 - 4 \\sin(x) - 2$')\n",
    "plt.show()"
   ]
  },
  {
   "cell_type": "markdown",
   "metadata": {},
   "source": [
    "## Функция для вычисления значений с помощью $S_{3,2}^{n_{opt}}$"
   ]
  },
  {
   "cell_type": "code",
   "execution_count": 211,
   "metadata": {},
   "outputs": [],
   "source": [
    "def optimal_quadratic_spline(arg):\n",
    "    flag_opt = 0\n",
    "    res = 0\n",
    "    # Нахождение нужного участка интервала с помощью цикла\n",
    "    for i in range(n):\n",
    "        if (arg <= chebish[i]) and (arg >= chebish[i+1]):\n",
    "            flag_opt = i\n",
    "            res = ai_opt[flag_opt]*arg**2 + bi_opt[flag_opt]*arg + ci_opt[flag_opt]\n",
    "    return res"
   ]
  },
  {
   "cell_type": "markdown",
   "metadata": {},
   "source": [
    "## Найдем максимальные разности $RS_{m,p}^n$"
   ]
  },
  {
   "cell_type": "code",
   "execution_count": 245,
   "metadata": {},
   "outputs": [
    {
     "name": "stdout",
     "output_type": "stream",
     "text": [
      "Введите количество m точек разбиения интервала интерполирования, в которых определяются отклонения: 10\n",
      "Введите максимальное количество max_nodes узлов: 20\n",
      "Таблица 1:\n",
      "-----------------------------------------------------------------------------------------------------------\n",
      "| кол-во узлов, n | кол-во точек разбиения, k   | max RSn_mp \t\t | max RSn_opt_mp \t\t|\n",
      "-----------------------------------------------------------------------------------------------------------\n"
     ]
    },
    {
     "ename": "IndexError",
     "evalue": "index 10 is out of bounds for axis 0 with size 10",
     "output_type": "error",
     "traceback": [
      "\u001b[0;31m---------------------------------------------------------------------------\u001b[0m",
      "\u001b[0;31mIndexError\u001b[0m                                Traceback (most recent call last)",
      "\u001b[0;32m/var/folders/8b/6ssktshx6r1fmq77tl5ypb7c0000gn/T/ipykernel_62823/3229024916.py\u001b[0m in \u001b[0;36m<module>\u001b[0;34m\u001b[0m\n\u001b[1;32m     93\u001b[0m     \u001b[0;32mfor\u001b[0m \u001b[0mp\u001b[0m \u001b[0;32min\u001b[0m \u001b[0mrange\u001b[0m\u001b[0;34m(\u001b[0m\u001b[0mlen\u001b[0m\u001b[0;34m(\u001b[0m\u001b[0mmds\u001b[0m\u001b[0;34m)\u001b[0m\u001b[0;34m)\u001b[0m\u001b[0;34m:\u001b[0m\u001b[0;34m\u001b[0m\u001b[0;34m\u001b[0m\u001b[0m\n\u001b[1;32m     94\u001b[0m \u001b[0;34m\u001b[0m\u001b[0m\n\u001b[0;32m---> 95\u001b[0;31m         \u001b[0mxxx\u001b[0m \u001b[0;34m=\u001b[0m \u001b[0mnp\u001b[0m\u001b[0;34m.\u001b[0m\u001b[0mlinspace\u001b[0m\u001b[0;34m(\u001b[0m\u001b[0mmds\u001b[0m\u001b[0;34m[\u001b[0m\u001b[0mp\u001b[0m\u001b[0;34m]\u001b[0m\u001b[0;34m,\u001b[0m \u001b[0mmds\u001b[0m\u001b[0;34m[\u001b[0m\u001b[0mp\u001b[0m\u001b[0;34m+\u001b[0m\u001b[0;36m1\u001b[0m\u001b[0;34m]\u001b[0m\u001b[0;34m)\u001b[0m\u001b[0;34m\u001b[0m\u001b[0;34m\u001b[0m\u001b[0m\n\u001b[0m\u001b[1;32m     96\u001b[0m \u001b[0;31m#         print(xxx)\u001b[0m\u001b[0;34m\u001b[0m\u001b[0;34m\u001b[0m\u001b[0;34m\u001b[0m\u001b[0m\n\u001b[1;32m     97\u001b[0m         \u001b[0;32mfor\u001b[0m \u001b[0ml\u001b[0m \u001b[0;32min\u001b[0m \u001b[0mxxx\u001b[0m\u001b[0;34m:\u001b[0m\u001b[0;34m\u001b[0m\u001b[0;34m\u001b[0m\u001b[0m\n",
      "\u001b[0;31mIndexError\u001b[0m: index 10 is out of bounds for axis 0 with size 10"
     ]
    }
   ],
   "source": [
    "k = int(input('Введите количество m точек разбиения интервала интерполирования, в которых определяются отклонения: '))\n",
    "max_nodes = int(input('Введите максимальное количество max_nodes узлов: '))\n",
    "# mds = maximum_difference_segment\n",
    "mds = np.linspace(a, b, k)\n",
    "\n",
    "func_mds = []\n",
    "spline_mds = []\n",
    "optimal_spline_mds = []\n",
    "RSn_mp = []\n",
    "RSn_opt_mp = []\n",
    "\n",
    "# значения точной функции в точках x0, x1, ..., xm; m >> n\n",
    "for i in mds:\n",
    "    func_mds.append(fn(i))\n",
    "\n",
    "print('Таблица 1:')\n",
    "print('-----------------------------------------------------------------------------------------------------------')\n",
    "print('| кол-во узлов, n | кол-во точек разбиения, k   | max RSn_mp \\t\\t | max RSn_opt_mp \\t\\t|' )\n",
    "print('-----------------------------------------------------------------------------------------------------------')\n",
    "\n",
    "for pp in range(3, max_nodes + 1):\n",
    "    #---------------------------------------------------------------------------\n",
    "    # SPLINE, создаем сплайны по равноотстоящим узлам\n",
    "    #---------------------------------------------------------------------------\n",
    "    # n - число квадратичных сплайнов\n",
    "    n = pp - 1\n",
    "    xx = np.linspace(a, b, pp)\n",
    "    A = np.zeros((3*n, 3*n))\n",
    "    C = np.zeros(3*n)\n",
    "    for i in range(n):\n",
    "        A[i, i] = xx[i]**2\n",
    "        A[i, n+i] = xx[i]\n",
    "        A[i, 2*n+i] = 1\n",
    "        \n",
    "        # Строки [n, 2n-1]\n",
    "        A[n+i, i] = xx[i+1]**2\n",
    "        A[n+i, n+i] = xx[i+1]\n",
    "        A[n+i, 2*n+i] = 1\n",
    "\n",
    "        C[i] = fn(xx[i])\n",
    "        C[n+i] = fn(xx[i+1])\n",
    "    # Строки [2n, 3n-1]\n",
    "    for j in range(n-1): \n",
    "        A[2*n+j, [j, j+1, n+j, n+j+1]] = 2*xx[j+1], -2*xx[j+1], 1, -1\n",
    "    # В последней строке задаем a_1 = 1    \n",
    "    A[3*n-1, 0] = 1\n",
    "    # Решаем относительно b\n",
    "    B = np.linalg.solve(A,C)\n",
    "    ai = B[:n]\n",
    "    bi = B[n:2*n]\n",
    "    ci = B[2*n:]\n",
    "    \n",
    "    #---------------------------------------------------------------------------\n",
    "    # SPLINE_optimal, создаем сплайны по узлам Чебышева\n",
    "    #---------------------------------------------------------------------------\n",
    "    chebish = []\n",
    "    for i in range(0, pp):\n",
    "        chebish.append(0.5 * ((b-a)*np.cos(((2*i+1)*np.pi)/(2*(pp+1))) + (b+a)))\n",
    "\n",
    "    n = pp - 1\n",
    "    A_opt = np.zeros((3*n, 3*n))*1.0\n",
    "    C_opt = np.zeros(3*n)*1.0\n",
    "\n",
    "    for i in range(n):\n",
    "        A_opt[i, i] = chebish[i]**2\n",
    "        A_opt[i, n+i] = chebish[i]\n",
    "        A_opt[i, 2*n+i] = 1\n",
    "\n",
    "        # Строки [n, 2n-1]\n",
    "        A_opt[n+i, i] = chebish[i+1]**2\n",
    "        A_opt[n+i, n+i] = chebish[i+1]\n",
    "        A_opt[n+i, 2*n+i] = 1\n",
    "\n",
    "        C_opt[i] = fn(chebish[i])\n",
    "        C_opt[n+i] = fn(chebish[i+1])\n",
    "\n",
    "    # Строки [2n, 3n-1]\n",
    "    for j in range(n-1): \n",
    "        A_opt[2*n+j, [j, j+1, n+j, n+j+1]] = 2*chebish[j+1], -2*chebish[j+1], 1, -1\n",
    "\n",
    "    # В последней строке задаем a_1 = 1    \n",
    "    A_opt[3*n-1, 0] = 1\n",
    "\n",
    "    # Решаем относительно b\n",
    "    B_opt = np.linalg.solve(A_opt, C_opt)\n",
    "    ai_opt = B_opt[:n]\n",
    "    bi_opt = B_opt[n:2*n]\n",
    "    ci_opt = B_opt[2*n:]\n",
    "    \n",
    "    #---------------------------------------------------------------------------\n",
    "    # Ищем разности     \n",
    "    #---------------------------------------------------------------------------\n",
    "    for p in range(len(mds)):\n",
    "        xxx = np.linspace(mds[p], mds[p+1])\n",
    "        for l in xxx:\n",
    "            # значения квадр. сплайна S_{m,p}^n в точках x0, x1, ..., xm; m >> n   \n",
    "            spline_mds.append(quadratic_spline(l))\n",
    "            # значения квадр. сплайна S_{m,p}^{n_opt} в точках x0, x1, ..., xm; m >> n        \n",
    "            optimal_spline_mds.append(optimal_quadratic_spline(l))\n",
    "    \n",
    "    print('chebish ', chebish)\n",
    "    print('xx ', xx)\n",
    "    print('mds', mds)\n",
    "    print('pp = {0}, spline_mds: {1}'.format(pp, spline_mds))\n",
    "    print('pp = {0}, opt_spline_mds: {1}'.format(pp, optimal_spline_mds))\n",
    "    # отклонения\n",
    "    for j in range(1, len(mds)):\n",
    "        RSn_mp.append(np.absolute(func_mds[j] - spline_mds[j]))\n",
    "        RSn_opt_mp.append(np.absolute(func_mds[j] - optimal_spline_mds[j]))\n",
    "    RSn_mp_max = max(RSn_mp)\n",
    "    RSn_opt_mp_max = max(RSn_opt_mp)\n",
    "    \n",
    "    print('|\\t', pp, '\\t|\\t\\t', k, '\\t  |', RSn_mp_max, '\\t|', RSn_opt_mp_max, '\\t\\t |')\n",
    "    print('-----------------------------------------------------------------------------------------------------------')\n",
    "    RSn_mp = []\n",
    "    RSn_opt_mp = []\n",
    "    RSn_mp_max, RSn_opt_mp_max = 0, 0\n",
    "    spline_mds = []\n",
    "    optimal_spline_mds = []"
   ]
  },
  {
   "cell_type": "code",
   "execution_count": null,
   "metadata": {},
   "outputs": [],
   "source": []
  },
  {
   "cell_type": "code",
   "execution_count": null,
   "metadata": {},
   "outputs": [],
   "source": []
  }
 ],
 "metadata": {
  "kernelspec": {
   "display_name": "Python 3 (ipykernel)",
   "language": "python",
   "name": "python3"
  },
  "language_info": {
   "codemirror_mode": {
    "name": "ipython",
    "version": 3
   },
   "file_extension": ".py",
   "mimetype": "text/x-python",
   "name": "python",
   "nbconvert_exporter": "python",
   "pygments_lexer": "ipython3",
   "version": "3.9.6"
  }
 },
 "nbformat": 4,
 "nbformat_minor": 2
}
