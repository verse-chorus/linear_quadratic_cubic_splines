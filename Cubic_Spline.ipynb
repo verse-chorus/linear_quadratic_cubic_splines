{
 "cells": [
  {
   "cell_type": "markdown",
   "metadata": {},
   "source": [
    "# Кубические сплайны"
   ]
  },
  {
   "cell_type": "markdown",
   "metadata": {},
   "source": [
    "$\\textbf{Кубический сплайн}$ (дефекта 1), интерполирующий $f(x)$ на $[a, b]$: $$c(x) := a_k + b_k (x-x_k) + c_k (x-x_k)^2 + d_k (x-x_k)^3,$$ где $x\\in [x_{k-1}, x_{k}] \\big|_{k=1}^n$ \n",
    "\n",
    "$\\textbf{Обозначение кубического сплайна}$: $S^N_{3,2}$, где $N, 3, 2$ - кол-во узлов интерполирования, старшая степень и порядок гладкости сплайна соответственно.\n",
    "$\\textbf{Дефект сплайна}$ - разность между старшей степерью и порядком гладкости сплайна. В нашей задаче дефект равен $1$\n",
    "\n",
    "$\\textbf{Краевые условия}$: \n",
    "$$ \\textbf{1)}\\; c(x_k) = f(x_k), \\;\\; \\textbf{2)}\\; c(x) \\in C^2([a,b]), \\;\\; \\textbf{3)}\\; c''(a) = c''(b)=0$$\n",
    "При выполнении условия $\\textbf{3)}$ сплайн называется $\\textbf{естественным}$."
   ]
  },
  {
   "cell_type": "markdown",
   "metadata": {},
   "source": [
    "$$\\textbf{1)}\\;y_i := c_{i-1}(x_i)=c_{i}(x_i),\\; \\textbf{2)}\\; y'_i :=c'_{i-1}(x_i)=c'_{i}(x_i),\\; \\textbf{3)}\\; y''_i :=c''_{i-1}(x_i)=c''_{i}(x_i), \\; i=\\overline{2,n-1}$$\n",
    "$c_i(x)$ - кубический полином $\\Rightarrow c''_i(x)$ - $\\textbf{линейная функция}$:\n",
    "\n",
    "$c''_i(x) = c''_i(x_i)+\\dfrac{x-x_i}{h_i} \\left( c''_i(x_{i+1}) - c''_i(x_I)\\right), \\; h_i := x_{i+1}-x_i$\n",
    "\n",
    "$$c'_i(x) = c'_i(x_i) + \\int_{x_i}^x c''_i(t) dt = c'_i(x_i) + c''_i(x_i)(x-x_i) + \\dfrac{c''_i(x_{i+1})-c''_i(x_i)}{2h_i}(x-x_i)^2 $$\n",
    "$$c_i(x) = c_i(x_i) + \\int_{x_i}^x c'_i(t) dt = c_i(x_i) + c'_i(x_i)(x-x_i) + c''_i(x_i)\\dfrac{(x-x_i)^2}{2} + \\dfrac{c''_i(x_{i+1})-c''_i(x_i)}{6h_i}(x-x_i)^3$$"
   ]
  },
  {
   "cell_type": "code",
   "execution_count": 102,
   "metadata": {},
   "outputs": [],
   "source": [
    "import numpy as np\n",
    "import matplotlib.pyplot as plt \n",
    "np.set_printoptions(suppress=True)"
   ]
  },
  {
   "cell_type": "code",
   "execution_count": 103,
   "metadata": {},
   "outputs": [],
   "source": [
    "# Матрица в виде AB = C  \n",
    "# Исходная функция\n",
    "def fn(x):\n",
    "    return x**2 + 4*np.sin(x) - 2"
   ]
  },
  {
   "cell_type": "code",
   "execution_count": 104,
   "metadata": {},
   "outputs": [
    {
     "name": "stdout",
     "output_type": "stream",
     "text": [
      "Введите левую границу a: -10\n",
      "Введите правую границу b: 10\n",
      "Введите кол-во равноотстоящих узлов m (целое число): 10\n"
     ]
    }
   ],
   "source": [
    "a = float(input('Введите левую границу a: '))\n",
    "b = float(input('Введите правую границу b: '))\n",
    "m = int(input('Введите кол-во равноотстоящих узлов m (целое число): '))\n",
    "\n",
    "x = np.linspace(a, b, m)\n",
    "\n",
    "# m - число узлов\n",
    "# n - число квадратичных сплайнов, у каждого 3 неизвестных - значит, у нас 3*n неизвестных\n",
    "# Надо решить 3*n уравнения\n",
    "n = m - 1\n",
    "\n",
    "\n",
    "A = np.zeros((4*n, 4*n))*1.0\n",
    "C = np.zeros(4*n)*1.0\n",
    "\n",
    "for i in range(n):\n",
    "    A[i,i] = x[i]**3\n",
    "    A[i,n+i] = x[i]**2\n",
    "    A[i,2*n+i] = x[i]\n",
    "    A[i,3*n+i] = 1\n",
    "    \n",
    "    # Строки [n, 2n-1]\n",
    "    A[n+i, i] = x[i+1]**3\n",
    "    A[n+i, n+i] = x[i+1]**2\n",
    "    A[n+i, 2*n+i] = x[i+1]\n",
    "    A[n+i, 3*n+i] = 1\n",
    "\n",
    "    \n",
    "    C[i] = fn(x[i])\n",
    "    C[n+i] = fn(x[i+1])\n",
    "\n",
    "# Строки [2n, 3n-1]\n",
    "for j in range(n-1):\n",
    "    row = 2*n+j\n",
    "    columns = [j, j+1, n+j, n+j+1, 2*n+j, 2*n+j+1]\n",
    "    #start at j+1 since derivatives are equal at the interior points\n",
    "    values = 3*x[j+1]**2, -3*x[j+1]**2, 2*x[j+1], -2*x[j+1], 1, -1\n",
    "    A[row, [columns]] = values\n",
    "   \n",
    "    # Значения функции для рядов C из промежутка [2n: 3n-1] равны нулю, поскольку мы приравниваем произвдоные\n",
    "\n",
    "    # Строки [3n-1, 4n-2]\n",
    "for q in range(n-1):\n",
    "    row = 3*n-1 + q\n",
    "    columns = [q, q+1, n+q, n+q+1]\n",
    "    values = 6*x[q+1], -6*x[q+1], 2, -2\n",
    "    A[row, [columns]] = values\n",
    "    # Значения функции для рядов C из промежутка [3n-1: 4n-2] равны нулю, поскольку мы приравниваем произвдоные\n",
    "    \n",
    "# Задаем вторые производные на граничны точках (x0, xn) равными нулю, \n",
    "# чтобы получить два дополнительных уравнения - естественный сплайн\n",
    "A[4*n-2, [0,n]] = 6*x[0], 2\n",
    "A[4*n-1, [n-1,2*n-1]] =  6*x[n], 2 #6*x[n-1], 2\n",
    "\n",
    "# Решаем относительно b\n",
    "B = np.linalg.solve(A,C)\n",
    "\n",
    "ai = B[:n]\n",
    "bi = B[n:2*n]\n",
    "ci = B[2*n:3*n]\n",
    "di = B[3*n:]"
   ]
  },
  {
   "cell_type": "markdown",
   "metadata": {},
   "source": [
    "## Визуализируем"
   ]
  },
  {
   "cell_type": "code",
   "execution_count": 105,
   "metadata": {},
   "outputs": [
    {
     "data": {
      "image/png": "[encoded data removed]",
      "text/plain": [
       "<Figure size 432x288 with 1 Axes>"
      ]
     },
     "metadata": {
      "needs_background": "light"
     },
     "output_type": "display_data"
    }
   ],
   "source": [
    "plt.figure()\n",
    "\n",
    "for k in range(n):\n",
    "    xspline = np.linspace(x[k], x[k+1])\n",
    "    yspline = ai[k]*xspline**3 + bi[k]*xspline**2 + ci[k]*xspline + di[k]    \n",
    "    plt.plot(xspline, yspline, '-', linewidth=4)\n",
    "\n",
    "plt.xlabel('x')\n",
    "plt.ylabel('y')\n",
    "plt.title('Кубический сплайн для $f(x) = x^2 + 4 \\sin(x) - 2$')\n",
    "\n",
    "plt.show()"
   ]
  },
  {
   "cell_type": "code",
   "execution_count": 106,
   "metadata": {},
   "outputs": [],
   "source": [
    "# result = 0\n",
    "# for t in range(n):\n",
    "#     upper_lim = (ai[t]*(x[t+1]**4)/4) + (bi[t]*(x[t+1]**3)/3) + ci[t]*(x[t+1]**2)/2 + di[t]*x[t+1]\n",
    "#     lower_lim = (ai[t]*(x[t]**4)/4) + (bi[t]*(x[t]**3)/3) + ci[t]*(x[t]**2)/2 + di[t]*x[t]\n",
    "    \n",
    "#     result += ((upper_lim - lower_lim))\n",
    "    \n",
    "# print(result)"
   ]
  },
  {
   "cell_type": "markdown",
   "metadata": {},
   "source": [
    "## Кубические сплайны по оптимальным узлам Чебышева"
   ]
  },
  {
   "cell_type": "code",
   "execution_count": 107,
   "metadata": {},
   "outputs": [],
   "source": [
    "# m - число узлов\n",
    "# n - число кубических сплайнов\n",
    "# n сплайнов, у каждого 3 неизвестных, итого 3*n неизвестных\n",
    "# Значит, нужно решить 3*n уравнений\n",
    "n = m - 1\n",
    "\n",
    "chebish = []\n",
    "for i in range(0, m):\n",
    "    chebish.append(0.5 * ((b-a)*np.cos(((2*i+1)*np.pi)/(2*(m+1))) + (b+a)))\n",
    "    \n",
    "\n",
    "A_opt = np.zeros((4*n, 4*n))*1.0\n",
    "C_opt = np.zeros(4*n)*1.0\n",
    "\n",
    "for i in range(n):\n",
    "    A_opt[i,i] = chebish[i]**3\n",
    "    A_opt[i,n+i] = chebish[i]**2\n",
    "    A_opt[i,2*n+i] = chebish[i]\n",
    "    A_opt[i,3*n+i] = 1\n",
    "    \n",
    "    # Строки [n, 2n-1]\n",
    "    A_opt[n+i, i] = chebish[i+1]**3\n",
    "    A_opt[n+i, n+i] = chebish[i+1]**2\n",
    "    A_opt[n+i, 2*n+i] = chebish[i+1]\n",
    "    A_opt[n+i, 3*n+i] = 1\n",
    "\n",
    "    \n",
    "    C_opt[i] = fn(chebish[i])\n",
    "    C_opt[n+i] = fn(chebish[i+1])\n",
    "\n",
    "# Строки [2n, 3n-1]\n",
    "for j in range(n-1):\n",
    "    row = 2*n+j\n",
    "    columns = [j, j+1, n+j, n+j+1, 2*n+j, 2*n+j+1]\n",
    "    # start at j+1 since derivatives are equal at the interior points\n",
    "    values = 3*chebish[j+1]**2, -3*chebish[j+1]**2, 2*chebish[j+1], -2*chebish[j+1], 1, -1\n",
    "    A_opt[row, [columns]] = values\n",
    "   \n",
    "    # Значения функции для рядов C из промежутка [2n: 3n-1] равны нулю, поскольку мы приравниваем произвдоные\n",
    "\n",
    "    # Строки [3n-1, 4n-2]\n",
    "for q in range(n-1):\n",
    "    row = 3*n-1 + q\n",
    "    columns = [q, q+1, n+q, n+q+1]\n",
    "    values = 6*chebish[q+1], -6*chebish[q+1], 2, -2\n",
    "    A_opt[row, [columns]] = values\n",
    "    # Значения функции для рядов C из промежутка [3n-1: 4n-2] равны нулю, поскольку мы приравниваем произвдоные\n",
    "    \n",
    "# Задаем вторые производные на граничны точках (x0, xn) равными нулю, \n",
    "# чтобы получить два дополнительных уравнения - естественный сплайн\n",
    "A_opt[4*n-2, [0,n]] = 6*chebish[0], 2\n",
    "A_opt[4*n-1, [n-1,2*n-1]] =  6*chebish[n], 2\n",
    "\n",
    "# Решаем относительно b\n",
    "B_opt = np.linalg.solve(A_opt, C_opt)\n",
    "\n",
    "ai_opt = B_opt[:n]\n",
    "bi_opt = B_opt[n:2*n]\n",
    "ci_opt = B_opt[2*n:3*n]\n",
    "di_opt = B_opt[3*n:]"
   ]
  },
  {
   "cell_type": "markdown",
   "metadata": {},
   "source": [
    "## Визуализация сплайна $S^m_{3,2}$ по оптимальным узлам Чебышева"
   ]
  },
  {
   "cell_type": "code",
   "execution_count": 108,
   "metadata": {},
   "outputs": [
    {
     "data": {
      "image/png": "[encoded data removed]",
      "text/plain": [
       "<Figure size 432x288 with 1 Axes>"
      ]
     },
     "metadata": {
      "needs_background": "light"
     },
     "output_type": "display_data"
    }
   ],
   "source": [
    "plt.figure()\n",
    "\n",
    "for k in range(n):\n",
    "    xspline_opt = np.linspace(chebish[k], chebish[k+1])\n",
    "    yspline_opt = ai_opt[k]*xspline_opt**3 + bi_opt[k]*xspline_opt**2 + ci_opt[k]*xspline_opt + di_opt[k]    \n",
    "    plt.plot(xspline_opt, yspline_opt, '-', linewidth=4)\n",
    "\n",
    "plt.xlabel('$x$')\n",
    "plt.ylabel('$y$')\n",
    "plt.title('Кубический сплайн по узлам Чебышева для $f(x) = x^2 + 4 \\sin(x) - 2$')\n",
    "\n",
    "plt.show()"
   ]
  },
  {
   "cell_type": "markdown",
   "metadata": {},
   "source": [
    "## Визуализация сплайна $S^m_{3,2}$ по оптимальным узлам Чебышева + по равноотстающим"
   ]
  },
  {
   "cell_type": "code",
   "execution_count": 112,
   "metadata": {},
   "outputs": [
    {
     "data": {
      "image/png": "[encoded data removed]",
      "text/plain": [
       "<Figure size 432x288 with 1 Axes>"
      ]
     },
     "metadata": {
      "needs_background": "light"
     },
     "output_type": "display_data"
    }
   ],
   "source": [
    "plt.figure()\n",
    "\n",
    "for k in range(n):\n",
    "    xspline_opt = np.linspace(chebish[k], chebish[k+1])\n",
    "    yspline_opt = ai_opt[k]*xspline_opt**3 + bi_opt[k]*xspline_opt**2 + ci_opt[k]*xspline_opt + di_opt[k]     \n",
    "    xspline = np.linspace(x[k], x[k+1])\n",
    "    yspline = ai[k]*xspline**3 + bi[k]*xspline**2 + ci[k]*xspline + di[k] \n",
    "    \n",
    "    plt.plot(xspline_opt, yspline_opt, 'r', linewidth=2)\n",
    "    plt.plot(xspline, yspline, 'b', linewidth=2)\n",
    "    \n",
    "plt.xlabel('x')\n",
    "plt.ylabel('y')\n",
    "plt.title('Кубический сплайн по узлам Чебышева для $f(x) = x^2 + 4 \\sin(x) - 2$')\n",
    "plt.show()"
   ]
  },
  {
   "cell_type": "code",
   "execution_count": null,
   "metadata": {},
   "outputs": [],
   "source": []
  },
  {
   "cell_type": "code",
   "execution_count": null,
   "metadata": {},
   "outputs": [],
   "source": []
  }
 ],
 "metadata": {
  "kernelspec": {
   "display_name": "Python 3 (ipykernel)",
   "language": "python",
   "name": "python3"
  },
  "language_info": {
   "codemirror_mode": {
    "name": "ipython",
    "version": 3
   },
   "file_extension": ".py",
   "mimetype": "text/x-python",
   "name": "python",
   "nbconvert_exporter": "python",
   "pygments_lexer": "ipython3",
   "version": "3.9.6"
  }
 },
 "nbformat": 4,
 "nbformat_minor": 2
}
